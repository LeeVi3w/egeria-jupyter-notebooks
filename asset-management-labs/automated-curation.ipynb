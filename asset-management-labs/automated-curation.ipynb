{
 "cells": [
  {
   "cell_type": "markdown",
   "metadata": {},
   "source": [
    "![Egeria Logo](https://raw.githubusercontent.com/odpi/egeria/master/assets/img/ODPi_Egeria_Logo_color.png)\n",
    "\n",
    "### Egeria Hands-On Lab\n",
    "# Welcome to the Automated Curation Lab\n",
    "\n",
    "**NOTE - this lab is still under construction and should not be used**"
   ]
  },
  {
   "cell_type": "markdown",
   "metadata": {},
   "source": [
    "## Introduction\n",
    "\n",
    "Egeria is an open source project that provides open standards and implementation libraries to connect tools, catalogs and platforms together so they can share information about data and technology (called metadata).\n",
    "\n",
    "In the [Building a Data Catalog](building-a-data-catalog.ipynb) lab, Peter Profile and Erin Overivew\n",
    "manually catalogued the weekly measurement files for the Drop Foot clinical trial.\n",
    "\n",
    "In this hands-on lab you will get a chance to work with Egeria's governance servers to\n",
    "automate this onboarding process."
   ]
  },
  {
   "cell_type": "markdown",
   "metadata": {},
   "source": [
    "## The scenario\n",
    "\n",
    "[Coco Pharmaceuticals](https://opengovernance.odpi.org/coco-pharmaceuticals/)\n",
    "is conducting a clinical trial with two hospitals: Oak Dean Hospital and Old Market Hospital.\n",
    "Each week the two hospitals send Coco Pharmaceuticals a set of measurements from the patients\n",
    "involved in the trial.  These measurements are located in a CSV file that the hospital sends through\n",
    "secure file transfer to a folder in Coco Pharmaceutical's landing area.\n",
    "\n",
    "These files need to be copied into the data lake and catalogued so that they are only visible to the\n",
    "staff involved in the clinical trial.  It is also important that the lineage of these files is\n",
    "maintained so the source of the data can be traced.  This process is shown in Figure 1.\n",
    "\n",
    "![Scenario](../images/automated-curation-scenario.png)\n",
    "> **Figure 1:** Clinical trial weekly measurements onboarding process\n",
    "\n",
    "Peter Profile and Erin Overview are responsible for this onboarding process.\n",
    "![Peter and Erin](../images/peter-and-erin.png)\n",
    "\n",
    "They have defined a list of requirements for the process:\n",
    "\n",
    "* Files must be in the landing area for a minimum amount of time.\n",
    "* As a new file is received, it needs to be catalogued, including:\n",
    "   * Description\n",
    "   * Connection details to enable the data scientists to access the contents\n",
    "   * Column details\n",
    "   * Governance zones defining the files' visibility\n",
    "   * Owner \n",
    "* A file is not accessible by any of the data lake users until the cataloguing process is complete.\n",
    "* They must record lineage of each measurements file so they know which hospital it came from.\n",
    "\n",
    "They have been [manually cataloguing the measurements files](building-a-data-catalog.ipynb) for\n",
    "the first few weeks to prove the approach but now it is time to automate the process.\n",
    "\n",
    "They plan to use an\n",
    "[Integration Daemon](https://egeria.odpi.org/open-metadata-implementation/admin-services/docs/concepts/integration-daemon.html)\n",
    "called **exchangeDL01** to capture the technical metadata of the files.\n",
    "Then the \n",
    "[Engine Host](https://egeria.odpi.org/open-metadata-implementation/admin-services/docs/concepts/engine-host.html)\n",
    "server called **governDL01** will manage the move of the file into the data lake,\n",
    "the augmentation of the metadata properties of the files and the creation of the lineage."
   ]
  },
  {
   "cell_type": "markdown",
   "metadata": {},
   "source": [
    "## Setting up\n",
    "\n",
    "Coco Pharmaceuticals make widespread use of Egeria for tracking and managing their data and related assets.\n",
    "Figure 1 below shows their servers and the Open Metadata and Governance (OMAG) Server Platforms that are hosting them.\n",
    "\n",
    "![Figure 1](../images/coco-pharmaceuticals-systems-omag-server-platforms.png)\n",
    "> **Figure 1:** Coco Pharmaceuticals' OMAG Server Platforms\n",
    "\n",
    "The code below checks that the platforms are running.  It checks that the servers are configured and then if they are running on the platform.  If a server is configured, but not running, it will start it.\n",
    "\n",
    "Look for the \"Done.\" message that is displayed after the governance servers have started."
   ]
  },
  {
   "cell_type": "code",
   "execution_count": null,
   "metadata": {},
   "outputs": [],
   "source": [
    "# Start up the metadata servers and the view server\n",
    "%run ../common/environment-check.ipynb\n",
    "\n",
    "print(\"Start up the Governance Servers\")\n",
    "activatePlatform(dataLakePlatformName, dataLakePlatformURL, [governDL01Name, exchangeDL01Name])\n",
    "\n",
    "print(\"Done. \")"
   ]
  },
  {
   "cell_type": "markdown",
   "metadata": {},
   "source": [
    "----\n",
    "**Stop here**"
   ]
  },
  {
   "cell_type": "code",
   "execution_count": null,
   "metadata": {},
   "outputs": [],
   "source": []
  },
  {
   "cell_type": "code",
   "execution_count": null,
   "metadata": {},
   "outputs": [],
   "source": []
  },
  {
   "cell_type": "markdown",
   "metadata": {},
   "source": [
    "Callie Quartile is a data scientist at Coco Pharmaceuticals.  She is responsible for analysing the data that is generated during a clinical trial.\n",
    "\n",
    "![Callie Quartile](https://raw.githubusercontent.com/odpi/data-governance/master/docs/coco-pharmaceuticals/personas/callie-quartile.png)\n",
    "\n",
    "Callie's userId is `calliequartile`."
   ]
  },
  {
   "cell_type": "code",
   "execution_count": null,
   "metadata": {},
   "outputs": [],
   "source": [
    "calliesUserId = \"calliequartile\""
   ]
  },
  {
   "cell_type": "markdown",
   "metadata": {},
   "source": [
    "Clinical trial data is stored in Coco Pharmaceutical's data lake as **data sets**.  A data set is a collection of related data.  For example, a data set may be the names, addresses of all patients in a clinical trail.  Or it may be the measurements from a particular test,\n",
    "of the notes from a physician as a result of a patient consultation.  There is no upper or lower limit on the\n",
    "size of a data set.  It just has to contain a useful collection of data.\n",
    "\n",
    "In this hands-on lab Callie wants to create clusters of patients involved in the trial based on their characteristics.\n",
    "This will help her look for patterns in the measurement data they receive through the clinical trial."
   ]
  },
  {
   "cell_type": "markdown",
   "metadata": {},
   "source": [
    "# Setting up\n",
    "\n",
    "Coco Pharmaceuticals make widespread use of ODPi Egeria for tracking and managing their data and related assets.\n",
    "Figure 1 below shows the metadata servers and the platforms that are hosting them.\n",
    "\n",
    "![Figure 1](../images/coco-pharmaceuticals-systems-omag-server-platforms-metadata-server.png)\n",
    "> **Figure 1:** Coco Pharmaceuticals' OMAG Server Platforms\n",
    "\n",
    "The code below checks that the platforms are running.  It checks that the servers are configured and then if they are running on the platform.  If a server is configured, but not running, it will start it.\n",
    "\n",
    "Look for the \"Done.\" message.  This appears when `environment-check` has finished."
   ]
  },
  {
   "cell_type": "code",
   "execution_count": null,
   "metadata": {},
   "outputs": [],
   "source": [
    "%run ../common/environment-check.ipynb"
   ]
  },
  {
   "cell_type": "markdown",
   "metadata": {},
   "source": [
    "----\n",
    "Callie is using the research team's metadata server called `cocoMDS3`. This server is hosted on the Core OMAG Server Platform.\n",
    "\n",
    "If any of the platforms are not running, follow [this link to set up and run the platform](https://egeria.odpi.org/open-metadata-resources/open-metadata-labs/).  If any server is reporting that it is not configured then\n",
    "run the steps in the [Server Configuration](../egeria-server-config.ipynb) lab to configure\n",
    "the servers.  Then re-run the previous step to ensure all of the servers are started.\n",
    "\n",
    "----\n",
    "## Setting up the metadata repository\n",
    "\n",
    "The code below catalogs an asset in the `cocoMDS1` metadata repository.  It is mimicking the work of the\n",
    "data lake operations team when they set up a new asset.\n",
    "Once the set up is complete then Callie can begin to explore the asset's properties."
   ]
  },
  {
   "cell_type": "code",
   "execution_count": null,
   "metadata": {},
   "outputs": [],
   "source": [
    "displayName = \"Drop Foot Clinical Trial Patients\"\n",
    "description = \"List of patients registered for the drop foot clinical trial.\"\n",
    "fullPath    = \"file://secured/research/clinical-trials/drop-foot/Patients.csv\"\n",
    "assetName   = \"Patient Asset\"\n",
    "\n",
    "assetGUIDs = assetOwnerCreateCSVAsset(cocoMDS1Name, cocoMDS1PlatformName, cocoMDS1PlatformURL, petersUserId, displayName, description, fullPath)\n",
    "\n",
    "assetGUID = getLastGUID(assetGUIDs)\n",
    "\n",
    "print(\"Created \" + assetName)\n",
    "\n",
    "commentType = \"STANDARD_COMMENT\"\n",
    "commentText = \"The hospital is still recruiting patients and so we are expecting a new version of this file at the end of week 4\"\n",
    "isPublic    = True\n",
    "\n",
    "commentGUID = addCommentToAsset(cocoMDS1Name,\n",
    "                                cocoMDS1PlatformName,\n",
    "                                cocoMDS1PlatformURL,\n",
    "                                petersUserId,\n",
    "                                assetGUID,\n",
    "                                commentText,\n",
    "                                commentType,\n",
    "                                isPublic)\n",
    "\n",
    "patientAssetOwner = \"tanyatidie\"\n",
    "patientOwnerType  = \"USER_ID\"\n",
    "\n",
    "addOwner(cocoMDS2Name, cocoMDS2PlatformName, cocoMDS2PlatformURL, erinsUserId, assetName, assetGUID, patientAssetOwner, patientOwnerType)\n",
    "addZones(cocoMDS2Name, cocoMDS2PlatformName, cocoMDS2PlatformURL, erinsUserId, assetName, assetGUID, [\"data-lake\", \"clinical-trials\"])\n",
    "\n",
    "print(\"Done.\")"
   ]
  },
  {
   "cell_type": "markdown",
   "metadata": {},
   "source": [
    "----\n",
    "One you see the message \"Done.\" then the asset is ready for Callie to explore.\n",
    "\n",
    "---\n",
    "## Retrieving information about an asset\n",
    "\n",
    "The call below looks for all assets that contain the string \"Patient\".  This should include the new\n",
    "asset that was just created.  The value(s) returned are the unique identifiers for the assets."
   ]
  },
  {
   "cell_type": "code",
   "execution_count": null,
   "metadata": {},
   "outputs": [],
   "source": [
    "assetConsumerSearchForAssets(cocoMDS3Name, cocoMDS3PlatformName, cocoMDS3PlatformURL, calliesUserId, \".*Patient.*\")"
   ]
  },
  {
   "cell_type": "markdown",
   "metadata": {},
   "source": [
    "----\n",
    "The search results show that Callie is able to locate the asset. The call below retrieves the core information about the asset along with an indication of what other information is available about the asset.\n",
    "\n",
    "----"
   ]
  },
  {
   "cell_type": "code",
   "execution_count": null,
   "metadata": {},
   "outputs": [],
   "source": [
    "printAssetUniverse(cocoMDS3Name, cocoMDS3PlatformName, cocoMDS3PlatformURL, calliesUserId, assetGUID)"
   ]
  },
  {
   "cell_type": "markdown",
   "metadata": {},
   "source": [
    "----"
   ]
  }
 ],
 "metadata": {
  "kernelspec": {
   "display_name": "Python 3",
   "language": "python",
   "name": "python3"
  },
  "language_info": {
   "codemirror_mode": {
    "name": "ipython",
    "version": 3
   },
   "file_extension": ".py",
   "mimetype": "text/x-python",
   "name": "python",
   "nbconvert_exporter": "python",
   "pygments_lexer": "ipython3",
   "version": "3.7.3"
  }
 },
 "nbformat": 4,
 "nbformat_minor": 4
}
