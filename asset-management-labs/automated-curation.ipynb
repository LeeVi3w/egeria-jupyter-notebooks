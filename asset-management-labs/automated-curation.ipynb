{
 "cells": [
  {
   "cell_type": "markdown",
   "metadata": {},
   "source": [
    "![Egeria Logo](https://raw.githubusercontent.com/odpi/egeria/master/assets/img/ODPi_Egeria_Logo_color.png)\n",
    "\n",
    "### Egeria Hands-On Lab\n",
    "# Welcome to the Automated Curation Lab\n",
    "\n",
    "**NOTE - this lab is still under construction and should not be used**"
   ]
  },
  {
   "cell_type": "markdown",
   "metadata": {},
   "source": [
    "## Introduction\n",
    "\n",
    "Egeria is an open source project that provides open standards and implementation libraries to connect tools, catalogs and platforms together so they can share information about data and technology (called metadata).\n",
    "\n",
    "In the [Building a Data Catalog](building-a-data-catalog.ipynb) lab, Peter Profile and Erin Overivew\n",
    "manually catalogued the weekly measurement files for the Drop Foot clinical trial.\n",
    "\n",
    "In this hands-on lab you will get a chance to work with Egeria's governance servers to\n",
    "automate this onboarding process."
   ]
  },
  {
   "cell_type": "markdown",
   "metadata": {},
   "source": [
    "## The scenario\n",
    "\n",
    "[Coco Pharmaceuticals](https://opengovernance.odpi.org/coco-pharmaceuticals/)\n",
    "is conducting a clinical trial with two hospitals: Oak Dean Hospital and Old Market Hospital.\n",
    "Each week the two hospitals send Coco Pharmaceuticals a set of measurements from the patients\n",
    "involved in the trial.  These measurements are located in a CSV file that the hospital sends through\n",
    "secure file transfer to a folder in Coco Pharmaceutical's landing area.\n",
    "\n",
    "These files need to be copied into the data lake and catalogued so that they are only visible to the\n",
    "staff involved in the clinical trial.  It is also important that the lineage of these files is\n",
    "maintained so the source of the data can be traced.  This process is shown in Figure 1.\n",
    "\n",
    "![Scenario](../images/automated-curation-scenario.png)\n",
    "> **Figure 1:** Clinical trial weekly measurements onboarding process\n",
    "\n",
    "Peter Profile and Erin Overview are responsible for this onboarding process.\n",
    "![Peter and Erin](../images/peter-and-erin.png)\n",
    "\n",
    "They have defined a list of requirements for the process:\n",
    "\n",
    "* Files must be in the landing area for a minimum amount of time.\n",
    "* As a new file is received, it needs to be catalogued, including:\n",
    "   * Description\n",
    "   * Connection details to enable the data scientists to access the contents\n",
    "   * Column details\n",
    "   * Governance zones defining the files' visibility\n",
    "   * Owner \n",
    "* A file is not accessible by any of the data lake users until the cataloguing process is complete.\n",
    "* They must record lineage of each measurements file so they know which hospital it came from.\n",
    "\n",
    "They have been [manually cataloguing the measurements files](building-a-data-catalog.ipynb) for\n",
    "the first few weeks to prove the approach but now it is time to automate the process since:\n",
    "* This clinical trial is planned to run for two years.\n",
    "* There is a expected to be a ramp up of other clinical trials running simultaneously and the\n",
    "  file onboarding workload would soon become overwhelming if they continued with the manual approach.\n",
    "\n",
    "They plan to use an\n",
    "[Integration Daemon](https://egeria.odpi.org/open-metadata-implementation/admin-services/docs/concepts/integration-daemon.html)\n",
    "called **exchangeDL01** to capture the technical metadata of the files.\n",
    "Then the \n",
    "[Engine Host](https://egeria.odpi.org/open-metadata-implementation/admin-services/docs/concepts/engine-host.html)\n",
    "server called **governDL01** will manage the move of the file into the data lake,\n",
    "the augmentation of the metadata properties of the files and the creation of the lineage."
   ]
  },
  {
   "cell_type": "markdown",
   "metadata": {},
   "source": [
    "## Setting up\n",
    "\n",
    "Coco Pharmaceuticals make widespread use of Egeria for tracking and managing their data and related assets.\n",
    "Figure 2 below shows their servers and the Open Metadata and Governance (OMAG) Server Platforms that are hosting them.\n",
    "\n",
    "![Figure 2](../images/coco-pharmaceuticals-systems-omag-server-platforms.png)\n",
    "> **Figure 2:** Coco Pharmaceuticals' OMAG Server Platforms\n",
    "\n",
    "The code below checks that the platforms are running.  It checks that the servers are configured and then if they are running on the platform.  If a server is configured, but not running, it will start it.\n",
    "\n",
    "Look for the \"Done.\" message that is displayed after the governance servers have started."
   ]
  },
  {
   "cell_type": "code",
   "execution_count": null,
   "metadata": {},
   "outputs": [],
   "source": [
    "# Start up the metadata servers and the view server\n",
    "%run ../common/environment-check.ipynb\n",
    "\n",
    "print(\"Start up the Governance Servers\")\n",
    "activatePlatform(dataLakePlatformName, dataLakePlatformURL, [governDL01Name, exchangeDL01Name])\n",
    "\n",
    "print(\"Done. \")"
   ]
  },
  {
   "cell_type": "markdown",
   "metadata": {},
   "source": [
    "----\n",
    "You should see that both the metadata servers `cocoMDS1` and `cocoMDS2` along with the integration daemon `exchangeDL01` and the engine host server `governDL01` have started.\n",
    "\n",
    "If any of the platforms are not running, follow [this link to set up and run the platform](https://egeria.odpi.org/open-metadata-resources/open-metadata-labs/).  If any server is reporting that it is not configured then\n",
    "run the steps in the [Server Configuration](../egeria-server-config.ipynb) lab to configure\n",
    "the servers.  Then re-run the previous step to ensure all of the servers are started.\n",
    "\n",
    "## Review the status of the integration daemon\n",
    "\n",
    "At this point, even though both `exchangeDL01` and `governDL01` are running, there is still work to set up the full data pipeline.  The command below queries the status of `exchangeDL01`."
   ]
  },
  {
   "cell_type": "code",
   "execution_count": null,
   "metadata": {},
   "outputs": [],
   "source": [
    "getIntegrationDaemonStatus(exchangeDL01Name, exchangeDL01PlatformName, exchangeDL01PlatformURL, petersUserId)"
   ]
  },
  {
   "cell_type": "markdown",
   "metadata": {},
   "source": [
    "----\n",
    "Notice that the Files Integrator Open Metadata Integration Service (OMIS) is running three connectors and they are all failing because the directories (folders) that they are supposed to be monitoring do not exist.  This is because no data files\n",
    "have arrived from either hospital.  As the data pipeline is set up in this lab, the directories will get created and we will be able to restart the connectors to get them working."
   ]
  },
  {
   "cell_type": "code",
   "execution_count": null,
   "metadata": {},
   "outputs": [],
   "source": [
    "\n",
    "OakDeneConnectorFolder   = fileSystemRoot + '/landing-area/hospitals/oak-dene/clinical-trials/drop-foot'\n",
    "OldMarketConnectorFolder = fileSystemRoot + '/landing-area/hospitals/old-market/clinical-trials/drop-foot'\n",
    "folderConnectorFolder    = fileSystemRoot + '/data-lake/research/clinical-trials/drop-foot/weekly-measurements'\n"
   ]
  },
  {
   "cell_type": "markdown",
   "metadata": {},
   "source": [
    "If you know the class name of an integration connector's provider, it is possible to check if the connector is of the right type for an integration service.  This function also returns full details of the connector type, which often includes descriptive information as well as the configuration properties that it supports.\n",
    "\n",
    "The connectors configured in the Files Integrator OMIS are shown in figure 3:\n",
    "\n",
    "![Figure 3](../images/integration-daemon.png)\n",
    "> **Figure 3:** exchangeDL01 with its connectors\n",
    "\n",
    "The class names of these integration connectors' providers can be seen in the connection object embedded in the error message displayed with the connectors' status.\n",
    "\n",
    "The commands below request that the Files Integrator OMIS service validate and return the connector type for each of these connectors."
   ]
  },
  {
   "cell_type": "code",
   "execution_count": null,
   "metadata": {},
   "outputs": [],
   "source": [
    "dataFilesMonitorProviderClassName = \"org.odpi.openmetadata.adapters.connectors.integration.basicfiles.DataFilesMonitorIntegrationProvider\"\n",
    "dataFolderMonitorProviderClassName = \"org.odpi.openmetadata.adapters.connectors.integration.basicfiles.DataFolderMonitorIntegrationProvider\"\n",
    "\n",
    "print(\"Data Files Monitor Integration Connector Type:\")\n",
    "validateIntegrationConnector(exchangeDL01Name, exchangeDL01PlatformName, exchangeDL01PlatformURL, \"files-integrator\", petersUserId, dataFilesMonitorProviderClassName)\n",
    "\n",
    "print(\"\")\n",
    "print(\"Data Folder Monitor Integration Connector Type:\")\n",
    "validateIntegrationConnector(exchangeDL01Name, exchangeDL01PlatformName, exchangeDL01PlatformURL, \"files-integrator\", petersUserId, dataFolderMonitorProviderClassName)"
   ]
  },
  {
   "cell_type": "markdown",
   "metadata": {},
   "source": [
    "----\n",
    "Both connectors supports the `templateQualifiedName` and the `allowCatalogDelete` configuration properties.  If you are curious\n",
    "about their meaning, review the definitions in the connector catalog:\n",
    "\n",
    "* [Data Files Monitor Integration Connector](https://egeria.odpi.org/open-metadata-publication/website/connector-catalog/data-files-monitor-integration-connector.html)\n",
    "* [Data Folder Monitor Integration Connector](https://egeria.odpi.org/open-metadata-publication/website/connector-catalog/data-folder-monitor-integration-connector.html)\n",
    "\n",
    "Later in the lab, we will be setting up the `templateQualifiedName`.\n",
    "\n",
    "----\n",
    "The command below tries to validate a connector that does not exist.  You can see that the request fails with\n",
    "a class not found exception."
   ]
  },
  {
   "cell_type": "code",
   "execution_count": null,
   "metadata": {},
   "outputs": [],
   "source": [
    "invalidProviderClassName = \"org.odpi.openmetadata.adapters.connectors.integration.basicfiles.DummyProvider\"\n",
    "\n",
    "print(\"Invalid Integration Connector:\")\n",
    "validateIntegrationConnector(exchangeDL01Name, exchangeDL01PlatformName, exchangeDL01PlatformURL, \"files-integrator\", petersUserId, invalidProviderClassName)"
   ]
  },
  {
   "cell_type": "markdown",
   "metadata": {},
   "source": [
    "----\n",
    "The next command tries to validate the data files connector with the Database Integrator OMIS.  This\n",
    "request also fails since this connector is not compatible with the Database Integrator OMIS."
   ]
  },
  {
   "cell_type": "code",
   "execution_count": null,
   "metadata": {},
   "outputs": [],
   "source": [
    "print(\"Data Files Monitor Integration Connector:\")\n",
    "validateIntegrationConnector(exchangeDL01Name, exchangeDL01PlatformName, exchangeDL01PlatformURL, \"database-integrator\", petersUserId, dataFilesMonitorProviderClassName)\n"
   ]
  },
  {
   "cell_type": "markdown",
   "metadata": {},
   "source": [
    "----\n",
    "## Setting up the file transfer into the landing area\n",
    "\n",
    "The directories (folders) that the integration connector are configured to monitor could be created by using a file system command.\n",
    "In this lab, however, the creation of a landing area folder will occur when the first file is received from the corresponding hospital.\n",
    "This is to avoid needing to provide this notebook with access to the file system.\n",
    "\n",
    "We are going to use a provisioning governance action service called `Move/Copy File Governance Action Service` to simulate the\n",
    "file transfer from a hospital to its folder in the landing zone.  This service\n",
    "runs in a governance engine that is supported by the Governance Action Open Metadata Engine Service (OMES).  As with the integration services,\n",
    "it is possible to validate and understand the connector through a call to the appropriate server.\n"
   ]
  },
  {
   "cell_type": "code",
   "execution_count": null,
   "metadata": {},
   "outputs": [],
   "source": [
    "moveCopyFileProviderClassName = \"org.odpi.openmetadata.adapters.connectors.governanceactions.provisioning.MoveCopyFileGovernanceActionProvider\"\n",
    "\n",
    "print(\"Move/Copy File Governance Action Service:\")\n",
    "validateGovernanceActionEngineConnector(governDL01Name, governDL01PlatformName, governDL01PlatformURL, petersUserId, moveCopyFileProviderClassName)\n"
   ]
  },
  {
   "cell_type": "code",
   "execution_count": null,
   "metadata": {},
   "outputs": [],
   "source": []
  },
  {
   "cell_type": "markdown",
   "metadata": {},
   "source": [
    "## Configuring the governance engine\n",
    "\n",
    "Figure 4 shows the three governance engines configured in the `governDL01` engine host server.\n",
    "\n",
    "![Figure 4](../images/engine-host.png)\n",
    "> **Figure 4:** Governance Engines for governDL01\n",
    "\n",
    "The command below queries the status of each governance engine running in `governDL01`.\n",
    "The governance action services that will support the onboarding of files for clinical trials will run in the `AssetGovernance`\n",
    "governance engine.  The other two governance engines are the subject of the [Open Discovery Lab](../administration-labs/open-discovery-config.ipynb)."
   ]
  },
  {
   "cell_type": "code",
   "execution_count": null,
   "metadata": {},
   "outputs": [],
   "source": [
    "\n",
    "getGovernanceEngineStatuses(governDL01Name, governDL01PlatformName, governDL01PlatformURL, petersUserId)\n"
   ]
  },
  {
   "cell_type": "markdown",
   "metadata": {},
   "source": [
    "----\n",
    "The status code `ASSIGNED` means that the governance engine was listed in Engine Host's configuration\n",
    "document - ie the governance engine was assigned to this server - but Engine Host has not been\n",
    "able to retrieve the configuration for the governance engine from the metadata server (`cocoMDS1`).\n",
    "\n",
    "When the basic governance engine properties have been retrieved from the metadata server then the status code\n",
    "becomes `CONFIGURING` and more decriptive information is returned with the status.\n",
    "\n",
    "When governance services are registered with the governance engine, the status moves to `RUNNING` and it is possible to see the list of supported request types for the governance engine.\n",
    "\n",
    "The next step in the lab is to add configuration for the governance engine to `cocoMDS2` until the\n",
    "`AssetGovernance` governance engine is running."
   ]
  },
  {
   "cell_type": "code",
   "execution_count": null,
   "metadata": {},
   "outputs": [],
   "source": [
    "assetGovernanceEngineName = \"AssetGovernance\"\n",
    "assetGovernanceEngineDisplayName = \"Asset Governance Action Engine\"\n",
    "assetGovernanceEngineDescription = \"Monitors, validates and enriches metadata relating to assets.\"\n",
    "\n",
    "assetGovernanceEngineGUID = createGovernanceEngine(cocoMDS2Name,\n",
    "                                                   cocoMDS2PlatformName,\n",
    "                                                   cocoMDS2PlatformURL,\n",
    "                                                   erinsUserId,\n",
    "                                                   \"GovernanceActionEngine\",\n",
    "                                                   assetGovernanceEngineName,\n",
    "                                                   assetGovernanceEngineDisplayName,\n",
    "                                                   assetGovernanceEngineDescription)\n",
    "\n",
    "if (assetGovernanceEngineGUID):\n",
    "    print (\" \")\n",
    "    print (\"The guid for the \" + assetGovernanceEngineName + \" governance engine is: \" + assetGovernanceEngineGUID)\n",
    "    print (\" \")\n",
    "\n",
    "print (\"Done. \")    "
   ]
  },
  {
   "cell_type": "markdown",
   "metadata": {},
   "source": [
    "----\n",
    "\n",
    "Now the governance engine is defined, its status moves to `CONFIGURING`.\n",
    "\n",
    "----"
   ]
  },
  {
   "cell_type": "code",
   "execution_count": null,
   "metadata": {},
   "outputs": [],
   "source": [
    "\n",
    "getGovernanceEngineStatuses(governDL01Name, governDL01PlatformName, governDL01PlatformURL, petersUserId)\n"
   ]
  },
  {
   "cell_type": "markdown",
   "metadata": {},
   "source": [
    "----\n",
    "\n",
    "Next, the description of the `Move/Copy File Governance Action Service` is added to cocoMDS2.  There are two parts to\n",
    "registering a governance action service.  The first is to create a GovernanceService definition that identifies\n",
    "the implementation of the service and the second part registers this GovernanceService definition with the governance engine.\n",
    "This registration maps one or more of the governance engine's request types, along with the default request parameters to\n",
    "the GovernanceService definition.  This mapping is used to translate a request to the governance engine into an\n",
    "invocation of a governance action service.\n",
    "\n",
    "Figure 5 shows the structure of the resulting definitions for a governance engine.  A governance action service may be\n",
    "registered with multiple governance engines, using the same or different request types.\n",
    "\n",
    "![Figure 5](../images/governance-action-request-type.png)\n",
    "> **Figure 5:** Structure of the governance services within a governance engine\n",
    "\n",
    "Since a governance action service is implemented as a connector, part of the GovernanceService definition includes the\n",
    "connection object used to initialize the service.\n",
    "`Move/Copy File Governance Action Service` is highly\n",
    "configurable through the configuration properties supplied in its connection object and so we can use it in two modes.\n",
    "\n",
    "The first instance will simulate the secure file transfer from the hospital to the\n",
    "landing area. In this case, it should not make use of any metadata and not create lineage."
   ]
  },
  {
   "cell_type": "code",
   "execution_count": null,
   "metadata": {},
   "outputs": [],
   "source": [
    "\n",
    "ftpGovernanceServiceName = \"ftp-governance-action-service\"\n",
    "ftpGovernanceServiceDisplayName = \"FTP Governance Action Service\"\n",
    "ftpGovernanceServiceDescription = \"Simulates FTP from an external party.\"\n",
    "ftpGovernanceServiceProviderClassName = moveCopyFileProviderClassName\n",
    "ftpGovernanceServiceConfigurationProperties = {\n",
    "        \"provisionUncataloguedFiles\" : \"\",\n",
    "        \"noLineage\" : \"\"\n",
    "    }\n",
    "ftpGovernanceServiceRequestType = \"ftp-to-landing-area\"\n"
   ]
  },
  {
   "cell_type": "markdown",
   "metadata": {},
   "source": [
    "The second instance is part of Coco Pharmaceuticals onboarding process and will be driven from the appearance of the\n",
    "Asset created by the integration daemon when a file arrives in the landing area.\n",
    "This instance will also produce lineage and change the resulting filename so that the files are sequenced according to their\n",
    "arrival.  For example:\n",
    " * DropFoot_000001.csv\n",
    " * DropFoot_000002.csv\n",
    "\n",
    "This aids the time-based loading of the files into a database by ensuring any corrections to the readings are applied in the\n",
    "correct order."
   ]
  },
  {
   "cell_type": "code",
   "execution_count": null,
   "metadata": {},
   "outputs": [],
   "source": [
    "\n",
    "dlGovernanceServiceName = \"provision-weekly-measurements-governance-action-service\"\n",
    "dlGovernanceServiceDisplayName = \"FTP Governance Action Service\"\n",
    "dlGovernanceServiceDescription = \"Provisions weekly measurment files from the landing area to the \"\n",
    "dlGovernanceServiceProviderClassName = moveCopyFileProviderClassName\n",
    "dlGovernanceServiceConfigurationProperties = {\n",
    "        \"targetFileNamePattern\" : \"DropFoot_{1, number,000000}.csv\"\n",
    "    }\n",
    "dlGovernanceServiceRequestType = \"provision-to-data-lake\"\n"
   ]
  },
  {
   "cell_type": "markdown",
   "metadata": {},
   "source": [
    "\n",
    "This next code issues the calls to create the two versions of the governance action service and add them to the AssetGovernance\n",
    "governance engine\n"
   ]
  },
  {
   "cell_type": "code",
   "execution_count": null,
   "metadata": {},
   "outputs": [],
   "source": [
    "\n",
    "\n",
    "governanceServiceGUID = createGovernanceService(cocoMDS2Name,\n",
    "                                                cocoMDS2PlatformName,\n",
    "                                                cocoMDS2PlatformURL,\n",
    "                                                erinsUserId,\n",
    "                                                \"GovernanceActionService\",\n",
    "                                                ftpGovernanceServiceName,\n",
    "                                                ftpGovernanceServiceDisplayName,\n",
    "                                                ftpGovernanceServiceDescription,\n",
    "                                                ftpGovernanceServiceProviderClassName,\n",
    "                                                ftpGovernanceServiceConfigurationProperties)\n",
    "\n",
    "if (governanceServiceGUID):\n",
    "    print (\" \")\n",
    "    print (\"The guid for the \" + governanceServiceName + \" governance service is: \" + governanceServiceGUID)\n",
    "    registerGovernanceServiceWithEngine(cocoMDS1Name,\n",
    "                                        cocoMDS1PlatformName,\n",
    "                                        cocoMDS1PlatformURL,\n",
    "                                        petersUserId,\n",
    "                                        assetGovernanceEngineGUID,\n",
    "                                        governanceServiceGUID,\n",
    "                                        ftpGovernanceServiceRequestType)\n",
    "    print (\"Service registered as: \" + ftpGovernanceServiceRequestType)\n",
    "    print (\" \")\n",
    "    \n",
    "\n",
    "governanceServiceGUID = createGovernanceService(cocoMDS2Name,\n",
    "                                                cocoMDS2PlatformName,\n",
    "                                                cocoMDS2PlatformURL,\n",
    "                                                erinsUserId,\n",
    "                                                \"GovernanceActionService\",\n",
    "                                                dlGovernanceServiceName,\n",
    "                                                dlGovernanceServiceDisplayName,\n",
    "                                                dlGovernanceServiceDescription,\n",
    "                                                dlGovernanceServiceProviderClassName,\n",
    "                                                dlGovernanceServiceConfigurationProperties)\n",
    "\n",
    "if (governanceServiceGUID):\n",
    "    print (\" \")\n",
    "    print (\"The guid for the \" + governanceServiceName + \" governance service is: \" + governanceServiceGUID)\n",
    "    registerGovernanceServiceWithEngine(cocoMDS1Name,\n",
    "                                        cocoMDS1PlatformName,\n",
    "                                        cocoMDS1PlatformURL,\n",
    "                                        petersUserId,\n",
    "                                        assetGovernanceEngineGUID,\n",
    "                                        governanceServiceGUID,\n",
    "                                        dlGovernanceServiceRequestType)\n",
    "    print (\"Service registered as: \" + dlGovernanceServiceRequestType)\n",
    "    print (\" \")   \n",
    "  "
   ]
  },
  {
   "cell_type": "markdown",
   "metadata": {},
   "source": [
    "Next we need a governance action service to listen for the \n",
    "    "
   ]
  },
  {
   "cell_type": "code",
   "execution_count": null,
   "metadata": {},
   "outputs": [],
   "source": []
  },
  {
   "cell_type": "code",
   "execution_count": null,
   "metadata": {},
   "outputs": [],
   "source": [
    "def initiateGovernanceAction(serverName, serverPlatformName, serverPlatformURL, userId, governanceEngineName, qualifiedName, requestType, requestProperties):\n",
    "    commandURLRoot = serverPlatformURL + \"/servers/\" + serverName + \"/open-metadata/access-services/governance-engine/users/\" + userId        \n",
    "    initiateGovernanceActionURL = configCommandURLRoot + '/governance-engines/' + governanceEngineName + '/governance-actions/initiate'\n",
    "    governanceActionGUID = None\n",
    "    try:\n",
    "        body = {\n",
    "            \"class\" : \"GovernanceActionRequestBody \",\n",
    "            \"qualifiedName\" : qualifiedName,\n",
    "            \"requestType\" : requestType,\n",
    "            \"requestProperties\" : requestProperties\n",
    "        }\n",
    "        response=issuePost(initiateGovernanceActionURL, body)\n",
    "        if response.status_code == 200:\n",
    "            relatedHTTPCode = response.json().get('relatedHTTPCode')\n",
    "            if relatedHTTPCode == 200:\n",
    "                governanceActionGUID = response.json().get('guid')\n",
    "            else:\n",
    "                printUnexpectedResponse(serverName, serverPlatformName, serverPlatformURL, response)\n",
    "        else:\n",
    "            printUnexpectedResponse(serverName, serverPlatformName, serverPlatformURL, response)\n",
    "    except Exception as error:\n",
    "        print(\"Exception: %s\" % error )\n",
    "        print(\"Platform \" + serverPlatformURL + \" is returning an error\")\n",
    "    return governanceActionGUID\n",
    "     \n",
    "def getGovernanceAction(serverName, serverPlatformName, serverPlatformURL, userId, governanceActionGUID):\n",
    "    commandURLRoot = serverPlatformURL + \"/servers/\" + serverName + \"/open-metadata/access-services/governance-engine/users/\" + userId        \n",
    "    getGovernanceActionURL = configCommandURLRoot + '/governance-actions/' + governanceActionGUID\n",
    "    try:\n",
    "        response=issueGet(getGovernanceActionURL)\n",
    "        if response.status_code == 200:\n",
    "            relatedHTTPCode = response.json().get('relatedHTTPCode')\n",
    "            if relatedHTTPCode == 200:\n",
    "                element = response.json().get('element')\n",
    "                if element:\n",
    "                    print(element)\n",
    "            else:\n",
    "                printUnexpectedResponse(serverName, serverPlatformName, serverPlatformURL, response)\n",
    "        else:\n",
    "            printUnexpectedResponse(serverName, serverPlatformName, serverPlatformURL, response)\n",
    "    except Exception as error:\n",
    "        print(\"Exception: %s\" % error )\n",
    "        print(\"Platform \" + serverPlatformURL + \" is returning an error\")\n"
   ]
  },
  {
   "cell_type": "code",
   "execution_count": null,
   "metadata": {},
   "outputs": [],
   "source": [
    "ftpRequestType = \"copy-file\"\n",
    "\n",
    "if governanceServiceGUID:\n",
    "    registerGovernanceServiceWithEngine(cocoMDS2Name,\n",
    "                                        cocoMDS2PlatformName,\n",
    "                                        cocoMDS2PlatformURL,\n",
    "                                        erinsUserId,\n",
    "                                        assetGovernanceEngineGUID,\n",
    "                                        governanceServiceGUID,\n",
    "                                        ftpRequestType)\n",
    "    print (\" \")\n",
    "    print (\"Service registered as: \" + ftpRequestType)\n",
    "    print (\" \")\n",
    "    \n",
    "print (\"Done. \")"
   ]
  },
  {
   "cell_type": "code",
   "execution_count": null,
   "metadata": {},
   "outputs": [],
   "source": []
  },
  {
   "cell_type": "markdown",
   "metadata": {},
   "source": [
    "----\n",
    "**Stop here**\n",
    "\n",
    "Plan of the lab\n",
    "\n",
    "* Review the status of the integration daemon and engine host - show that they are both in need to work\n",
    "* Create the folders for the integration daemon connectors and restart them - validate that they are working\n",
    "* Set up the FTP provisioning in the engine host\n",
    "* Add the first file into Oak Dene's landing area\n",
    "* Validate that the file is created in open metadata by the integration connector\n",
    "* Set up the provisioning ga service and test it by creating a governance action to drive it.\n",
    "* Validate that the file is transferred and the new asset is catalogued and the folder is updated\n",
    "* View the lineage\n",
    "* Set up the provisioning service in a simple governance action process and test it\n",
    "* Set up the watch dog service and check it drives the governance action process\n",
    "* Set up the origin and template - then configure the landing area integration connector to use a template - show the template affecting the set up of the landing area asset\n",
    "* Extend the governance action process to use the lineage to set up the origin. Show the origin on the new file asset.\n",
    "* Explain the use of triage if the origin can not be set.\n",
    "* Set up a template the owner and reconfigure the data lake folder\n",
    "* Extend the governance action to create a verification point and set the zone - with a triage alternate.\n",
    "----\n"
   ]
  },
  {
   "cell_type": "code",
   "execution_count": null,
   "metadata": {},
   "outputs": [],
   "source": [
    "# Test the status of all of the connectors\n",
    "\n",
    "csvDiscoveryProviderClassName = \"org.odpi.openmetadata.adapters.connectors.discoveryservices.CSVDiscoveryServiceProvider\"\n",
    "\n",
    "print(\"CSV Discovery Service:\")\n",
    "validateAssetAnalysisEngineConnector(governDL01Name, governDL01PlatformName, governDL01PlatformURL, petersUserId, csvDiscoveryProviderClassName)\n",
    "\n",
    "\n"
   ]
  },
  {
   "cell_type": "markdown",
   "metadata": {},
   "source": [
    "----\n"
   ]
  },
  {
   "cell_type": "markdown",
   "metadata": {},
   "source": [
    "---"
   ]
  },
  {
   "cell_type": "code",
   "execution_count": null,
   "metadata": {},
   "outputs": [],
   "source": []
  },
  {
   "cell_type": "markdown",
   "metadata": {},
   "source": [
    "----"
   ]
  },
  {
   "cell_type": "markdown",
   "metadata": {},
   "source": [
    "----"
   ]
  },
  {
   "cell_type": "code",
   "execution_count": null,
   "metadata": {},
   "outputs": [],
   "source": []
  },
  {
   "cell_type": "markdown",
   "metadata": {},
   "source": [
    "----\n"
   ]
  },
  {
   "cell_type": "code",
   "execution_count": null,
   "metadata": {},
   "outputs": [],
   "source": []
  },
  {
   "cell_type": "markdown",
   "metadata": {},
   "source": [
    "----\n"
   ]
  },
  {
   "cell_type": "code",
   "execution_count": null,
   "metadata": {},
   "outputs": [],
   "source": []
  },
  {
   "cell_type": "markdown",
   "metadata": {},
   "source": [
    "----"
   ]
  },
  {
   "cell_type": "code",
   "execution_count": null,
   "metadata": {},
   "outputs": [],
   "source": []
  },
  {
   "cell_type": "markdown",
   "metadata": {},
   "source": [
    "----"
   ]
  }
 ],
 "metadata": {
  "kernelspec": {
   "display_name": "Python 3",
   "language": "python",
   "name": "python3"
  },
  "language_info": {
   "codemirror_mode": {
    "name": "ipython",
    "version": 3
   },
   "file_extension": ".py",
   "mimetype": "text/x-python",
   "name": "python",
   "nbconvert_exporter": "python",
   "pygments_lexer": "ipython3",
   "version": "3.7.3"
  }
 },
 "nbformat": 4,
 "nbformat_minor": 4
}
