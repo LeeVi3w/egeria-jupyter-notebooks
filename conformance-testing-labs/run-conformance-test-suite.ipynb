{
 "cells": [
  {
   "cell_type": "markdown",
   "metadata": {},
   "source": [
    "![Egeria Logo](https://raw.githubusercontent.com/odpi/egeria/master/assets/img/ODPi_Egeria_Logo_color.png)\n",
    "\n",
    "### ODPi Egeria Hands-On Lab\n",
    "# Welcome to the Conformance Test Suite Lab"
   ]
  },
  {
   "cell_type": "markdown",
   "metadata": {},
   "source": [
    "## Introduction\n",
    "\n",
    "ODPi Egeria is an open source project that provides open standards and implementation libraries to connect tools, catalogs and platforms together so they can share information (called metadata) about data and the technology that supports it.\n",
    "\n",
    "In this hands-on lab you will get a chance to work with the conformance test suite that is used to validate that a technology can successfully join an open metadata repository cohort."
   ]
  },
  {
   "cell_type": "markdown",
   "metadata": {},
   "source": [
    "## About the Conformance Suite \n",
    "\n",
    "The Conformance Suite can be used to test a Platform or Repository Connector to record which Conformance \n",
    "Profiles it supports. The Conformance Suite has different Workbenches that are used to test different types of \n",
    "system. \n",
    "\n",
    "Initially our focus will be on the Repository Conformance Workbench. This workbench is used to test that an \n",
    "OMRS Repository Connector record which of the Repository Conformance Profiles it supports.\n",
    "\n",
    "There are 13 repository conformance profiles in this workbench. One of them is mandatory - i.e. any repository\n",
    "connector must fully support that profie in order to be certified as conformant. The other profiles are optional and \n",
    "for each of these optional profiles, a repository connector can be certified as compliant even if it does not \n",
    "provide the function required by that profile - so long as it responds appropriately to requests.\n"
   ]
  },
  {
   "cell_type": "markdown",
   "metadata": {},
   "source": [
    "## Configuring and running the Conformance Suite \n",
    "\n",
    "We'll come back to the profiles later, but for now let's configure and run the Conformance Suite.\n",
    "\n",
    "We're going to need a pair of OMAG Servers - one to run the repository under test, the other to run the workbench. The servers need to join the same cohort.\n",
    "\n",
    "![CTS-Cohort.png](../images/CTS-Cohort.png)\n",
    "> **Figure 1:** Cohort for conformance testing\n",
    "\n",
    "When the one runnng the workbench sees the cohort registration of the server under test, it runs the workbench tests against that server's repository."
   ]
  },
  {
   "cell_type": "code",
   "execution_count": 1,
   "metadata": {},
   "outputs": [],
   "source": [
    "# STOLEN FROM COMMON/GLOBALS.IPYNB\n",
    "# This file contains the common functions and definitions used in all Egeria Hands on\n",
    "# Lab Notebooks. Typically these will be system-wide functions and common environment settings\n",
    "#\n",
    "\n",
    "# Disable certificate checking for local development use with self-signed certificate \n",
    "import urllib3\n",
    "urllib3.disable_warnings(urllib3.exceptions.InsecureRequestWarning)\n",
    "import os\n",
    "os.environ['CURL_CA_BUNDLE'] = ''"
   ]
  },
  {
   "cell_type": "markdown",
   "metadata": {},
   "source": [
    "## Starting up the Egeria platforms\n",
    "\n",
    "We'll start one OMAG Server Platform on which to run both the servers.\n",
    "We also need Apache Zookeeper and Apache Kafka.  \n"
   ]
  },
  {
   "cell_type": "code",
   "execution_count": 31,
   "metadata": {},
   "outputs": [
    {
     "name": "stdout",
     "output_type": "stream",
     "text": [
      "\n",
      "Checking OMAG Server Platform availability...\n",
      "   ... CTS OMAG Server Platform at https://localhost:8082 is active - ready to begin\n",
      "Done.\n"
     ]
    }
   ],
   "source": [
    "#%run ../common/globals.ipynb\n",
    "\n",
    "import requests\n",
    "import pprint\n",
    "import json\n",
    "import os\n",
    "import time\n",
    "\n",
    "ctsPlatformURL = os.environ.get('ctsPlatformURL','https://localhost:8082') \n",
    "\n",
    "def checkServerPlatform(testPlatformName, testPlatformURL):\n",
    "    response = requests.get(testPlatformURL + \"/open-metadata/platform-services/users/garygeeke/server-platform/origin/\")\n",
    "    if response.status_code == 200:\n",
    "        print(\"   ...\", testPlatformName, \"at\", testPlatformURL, \"is active - ready to begin\")\n",
    "    else:\n",
    "        print(\"   ...\", testPlatformName, \"at\", testPlatformURL, \"is down - start it before proceeding\")\n",
    "\n",
    "print (\"\\nChecking OMAG Server Platform availability...\")\n",
    "checkServerPlatform(\"CTS OMAG Server Platform\", ctsPlatformURL)\n",
    "\n",
    "print (\"Done.\")"
   ]
  },
  {
   "cell_type": "markdown",
   "metadata": {},
   "source": [
    "## Configuring the Servers\n",
    "\n",
    "We're going to configure both the servers in the diagram above.\n",
    "\n",
    "It's useful to create some generally useful definitions here.\n",
    "\n",
    "Knowing both server names up front will be handy for when we configure the workbench.\n",
    "\n",
    "To configure the servers we'll need a common cohort name and event bus configuration. \n",
    "We can let the CTS server default to using a local in-memory repository.\n",
    "The CTS server does not need to run any Access Services."
   ]
  },
  {
   "cell_type": "code",
   "execution_count": 18,
   "metadata": {},
   "outputs": [],
   "source": [
    "ctsServerName    = \"CTS_Server\"\n",
    "sutServerName    = \"SUT_Server\"\n",
    "devCohort        = \"devCohort\""
   ]
  },
  {
   "cell_type": "markdown",
   "metadata": {},
   "source": [
    "We'll need to pass a couple of JSON request bodies - so let's set up a reusable header:"
   ]
  },
  {
   "cell_type": "code",
   "execution_count": 19,
   "metadata": {},
   "outputs": [],
   "source": [
    "jsonContentHeader = {'content-type':'application/json'}"
   ]
  },
  {
   "cell_type": "markdown",
   "metadata": {},
   "source": [
    "We'll need a JSON request body for configuration of the event bus."
   ]
  },
  {
   "cell_type": "code",
   "execution_count": 20,
   "metadata": {},
   "outputs": [],
   "source": [
    "eventBusURLroot   = os.environ.get('eventBusURLroot', 'localhost:9092')\n",
    "\n",
    "eventBusBody      = {\n",
    "    \"producer\": {\n",
    "        \"bootstrap.servers\": eventBusURLroot\n",
    "    },\n",
    "    \"consumer\":{\n",
    "        \"bootstrap.servers\": eventBusURLroot\n",
    "    }\n",
    "}"
   ]
  },
  {
   "cell_type": "markdown",
   "metadata": {},
   "source": [
    "We'll also need a JSON request body for configuration of the workbench. \n",
    "This can be used to set the pageSize used in searches."
   ]
  },
  {
   "cell_type": "code",
   "execution_count": 21,
   "metadata": {},
   "outputs": [],
   "source": [
    "workbenchConfigBody = {\n",
    "    \"class\"                  : \"RepositoryConformanceWorkbenchConfig\",\n",
    "    \"tutRepositoryServerName\": sutServerName ,\n",
    "    \"maxSearchResults\"       : 10\n",
    "}"
   ]
  },
  {
   "cell_type": "markdown",
   "metadata": {},
   "source": [
    "We also need a userId for the configuration commands. You could change this to a name you choose."
   ]
  },
  {
   "cell_type": "code",
   "execution_count": 22,
   "metadata": {},
   "outputs": [],
   "source": [
    "adminUserId      = \"garygeeke\""
   ]
  },
  {
   "cell_type": "markdown",
   "metadata": {},
   "source": [
    "We can perform configuration operations through the administrative interface provided by the ctsPlatformURL.\n",
    "\n",
    "The URLs for the configuration REST APIs have a common structure and begin with the following root:"
   ]
  },
  {
   "cell_type": "code",
   "execution_count": 23,
   "metadata": {},
   "outputs": [],
   "source": [
    "adminPlatformURL = ctsPlatformURL\n",
    "\n",
    "adminCommandURLRoot = adminPlatformURL + '/open-metadata/admin-services/users/' + adminUserId + '/servers/'"
   ]
  },
  {
   "cell_type": "markdown",
   "metadata": {},
   "source": [
    "What follows are descriptions and coded requests to configure each server.  There are a lot of common steps \n",
    "involved in configuring a metadata server, so we first define some simple \n",
    "functions that can be re-used in later steps for configuring each server.\n",
    "\n",
    "Each function returns True or False to indicate whether it was successful."
   ]
  },
  {
   "cell_type": "code",
   "execution_count": 24,
   "metadata": {},
   "outputs": [],
   "source": [
    "def postAndPrintResult(url, json=None, headers=None):\n",
    "    print(\"   ...... (POST\", url, \")\")\n",
    "    response = requests.post(url, json=json, headers=headers)\n",
    "    if response.status_code == 200:\n",
    "        print(\"   ...... Success. Response: \", response.json())\n",
    "        return True\n",
    "    else:\n",
    "        print(\"   ...... Failed. Response: \", response.json())\n",
    "        return False\n",
    "    \n",
    "def getAndPrintResult(url, json=None, headers=None):\n",
    "    print(\"   ...... (GET\", url, \")\")\n",
    "    response = requests.get(url, json=json, headers=headers)\n",
    "    if response.status_code == 200:\n",
    "        print(\"   ...... Success. Response: \", response.json())\n",
    "        return True\n",
    "    else:\n",
    "        print(\"   ...... Failed. Response: \", response.json())\n",
    "        return False\n",
    "\n",
    "def getResult(url, json=None, headers=None):\n",
    "    print(\"\\n   ...... (GET\", url, \")\")\n",
    "    try:\n",
    "        response = requests.get(url, json=json, headers=headers)\n",
    "        if response.status_code == 200:\n",
    "            if response.json()['relatedHTTPCode'] == 200:\n",
    "                return response.json()\n",
    "        return None\n",
    "    except requests.exceptions.RequestException as e:\n",
    "        print (\"   ...... FAILED - http request threw an exception: \", e)\n",
    "        return None    \n",
    "\n",
    "def configurePlatformURL(serverName, serverPlatform):\n",
    "    print(\"\\n   ... Configuring the platform the server will run on...\")\n",
    "    url = adminCommandURLRoot + serverName + '/server-url-root?url=' + serverPlatform\n",
    "    return postAndPrintResult(url)\n",
    "\n",
    "def configureServerType(serverName, serverType):\n",
    "    print (\"\\n   ... Configuring the server's type...\")\n",
    "    url = adminCommandURLRoot + serverName + '/server-type?typeName=' + serverType\n",
    "    return postAndPrintResult(url)\n",
    "\n",
    "def configureUserId(serverName, userId):\n",
    "    print (\"\\n   ... Configuring the server's userId...\")\n",
    "    url = adminCommandURLRoot + serverName + '/server-user-id?id=' + userId\n",
    "    return postAndPrintResult(url)\n",
    "\n",
    "def configurePassword(serverName, password):\n",
    "    print (\"\\n   ... Configuring the server's password (optional)...\")\n",
    "    url = adminCommandURLRoot + serverName + '/server-user-password?password=' + password\n",
    "    return postAndPrintResult(url)\n",
    "\n",
    "def configureMetadataRepository(serverName, repositoryType):\n",
    "    print (\"\\n   ... Configuring the metadata repository...\")\n",
    "    url = adminCommandURLRoot + serverName + '/local-repository/mode/' + repositoryType\n",
    "    return postAndPrintResult(url)\n",
    "\n",
    "def configureDescriptiveName(serverName, collectionName):\n",
    "    print (\"\\n   ... Configuring the short descriptive name of the metadata stored in this server...\")\n",
    "    url = adminCommandURLRoot + serverName + '/local-repository/metadata-collection-name/' + collectionName\n",
    "    return postAndPrintResult(url)\n",
    "\n",
    "def configureEventBus(serverName, busBody):\n",
    "    print (\"\\n   ... Configuring the event bus for this server...\")\n",
    "    url = adminCommandURLRoot + serverName + '/event-bus'\n",
    "    return postAndPrintResult(url, json=busBody, headers=jsonContentHeader)\n",
    "\n",
    "def configureCohortMembership(serverName, cohortName):\n",
    "    print (\"\\n   ... Configuring the membership of the cohort...\")\n",
    "    url = adminCommandURLRoot + serverName + '/cohorts/' + cohortName\n",
    "    return postAndPrintResult(url)\n",
    "    \n",
    "def configureRepositoryWorkbench(serverName, workbenchBody):\n",
    "    print (\"\\n   ... Configuring the repository workbench for this server...\")\n",
    "    url = adminCommandURLRoot + serverName + '/conformance-suite-workbenches/repository-workbench/repositories'\n",
    "    return postAndPrintResult(url, json=workbenchBody, headers=jsonContentHeader)\n"
   ]
  },
  {
   "cell_type": "markdown",
   "metadata": {},
   "source": [
    "## Configuring the CTS Server\n",
    "\n",
    "We're going to the CTS Server from the diagram above. The CTS Server is the one that runs the repository workbench.\n",
    "\n",
    "The server will default to using a local in-memory repository.\n",
    "The CTS server does not need to run any Access Services.\n",
    "\n",
    "Notice that when We configure the CTS Server to run the repository workbench, we provide the name of the server under test.\n",
    "\n",
    "First we introduce a 'success' variable which is used to monitor progress in the subsequent cells."
   ]
  },
  {
   "cell_type": "code",
   "execution_count": 25,
   "metadata": {},
   "outputs": [],
   "source": [
    "success = True"
   ]
  },
  {
   "cell_type": "code",
   "execution_count": 26,
   "metadata": {},
   "outputs": [
    {
     "name": "stdout",
     "output_type": "stream",
     "text": [
      "Configuring CTS_Server...\n",
      "\n",
      "   ... Configuring the platform the server will run on...\n",
      "   ...... (POST https://localhost:8082/open-metadata/admin-services/users/garygeeke/servers/CTS_Server/server-url-root?url=https://localhost:8082 )\n",
      "   ...... Success. Response:  {'class': 'VoidResponse', 'relatedHTTPCode': 200}\n",
      "\n",
      "   ... Configuring the server's type...\n",
      "   ...... (POST https://localhost:8082/open-metadata/admin-services/users/garygeeke/servers/CTS_Server/server-type?typeName=Conformance Suite Server )\n",
      "   ...... Success. Response:  {'class': 'VoidResponse', 'relatedHTTPCode': 200}\n",
      "\n",
      "   ... Configuring the server's userId...\n",
      "   ...... (POST https://localhost:8082/open-metadata/admin-services/users/garygeeke/servers/CTS_Server/server-user-id?id=CTS1npa )\n",
      "   ...... Success. Response:  {'class': 'VoidResponse', 'relatedHTTPCode': 200}\n",
      "\n",
      "   ... Configuring the server's password (optional)...\n",
      "   ...... (POST https://localhost:8082/open-metadata/admin-services/users/garygeeke/servers/CTS_Server/server-user-password?password=CTS1passw0rd )\n",
      "   ...... Success. Response:  {'class': 'VoidResponse', 'relatedHTTPCode': 200}\n",
      "\n",
      "   ... Configuring the event bus for this server...\n",
      "   ...... (POST https://localhost:8082/open-metadata/admin-services/users/garygeeke/servers/CTS_Server/event-bus )\n",
      "   ...... Success. Response:  {'class': 'VoidResponse', 'relatedHTTPCode': 200}\n",
      "\n",
      "   ... Configuring the membership of the cohort...\n",
      "   ...... (POST https://localhost:8082/open-metadata/admin-services/users/garygeeke/servers/CTS_Server/cohorts/devCohort )\n",
      "   ...... Success. Response:  {'class': 'VoidResponse', 'relatedHTTPCode': 200}\n",
      "\n",
      "   ... Configuring the repository workbench for this server...\n",
      "   ...... (POST https://localhost:8082/open-metadata/admin-services/users/garygeeke/servers/CTS_Server/conformance-suite-workbenches/repository-workbench/repositories )\n",
      "   ...... Success. Response:  {'class': 'VoidResponse', 'relatedHTTPCode': 200}\n",
      "\n",
      "Done.\n"
     ]
    }
   ],
   "source": [
    "ctsServerType          = \"Conformance Suite Server\"\n",
    "ctsServerUserId        = \"CTS1npa\"\n",
    "ctsServerPassword      = \"CTS1passw0rd\"\n",
    "ctsServerPlatform      = ctsPlatformURL\n",
    "\n",
    "\n",
    "print(\"Configuring \" + ctsServerName + \"...\")\n",
    "\n",
    "if (success):\n",
    "    success = configurePlatformURL(ctsServerName, ctsServerPlatform)\n",
    "if (success):\n",
    "    success = configureServerType(ctsServerName, ctsServerType)\n",
    "if (success):\n",
    "    success = configureUserId(ctsServerName, ctsServerUserId)\n",
    "if (success):\n",
    "    success = configurePassword(ctsServerName, ctsServerPassword)\n",
    "if (success):\n",
    "    success = configureEventBus(ctsServerName, eventBusBody)\n",
    "if (success):\n",
    "    success = configureCohortMembership(ctsServerName, devCohort)\n",
    "if (success):\n",
    "    success = configureRepositoryWorkbench(ctsServerName, workbenchConfigBody)\n",
    "\n",
    "if (success):\n",
    "    print(\"\\nDone.\")\n",
    "else:\n",
    "    print(\"\\nFAILED: please check the messages above and correct before proceeding\")"
   ]
  },
  {
   "cell_type": "markdown",
   "metadata": {},
   "source": [
    " ## Configuring the SUT Server (Server Under Test)\n",
    "\n",
    "We're going to the SUT Server from the diagram above. The SUT Server is the one that hosts the repository that is being tested. The SUT Server will run on the same platform as the CTS Server.\n",
    "\n",
    "The server will default to using a local in-memory repository.\n",
    "The CTS server does not need to run any Access Services.\n",
    "\n",
    "Notice that when we configure the CTS Server to run the repository workbench, we provide the name of the server under test."
   ]
  },
  {
   "cell_type": "code",
   "execution_count": 27,
   "metadata": {},
   "outputs": [
    {
     "name": "stdout",
     "output_type": "stream",
     "text": [
      "Configuring SUT_Server...\n",
      "\n",
      "   ... Configuring the platform the server will run on...\n",
      "   ...... (POST https://localhost:8082/open-metadata/admin-services/users/garygeeke/servers/SUT_Server/server-url-root?url=https://localhost:8082 )\n",
      "   ...... Success. Response:  {'class': 'VoidResponse', 'relatedHTTPCode': 200}\n",
      "\n",
      "   ... Configuring the server's type...\n",
      "   ...... (POST https://localhost:8082/open-metadata/admin-services/users/garygeeke/servers/SUT_Server/server-type?typeName=Metadata Repository Server )\n",
      "   ...... Success. Response:  {'class': 'VoidResponse', 'relatedHTTPCode': 200}\n",
      "\n",
      "   ... Configuring the server's userId...\n",
      "   ...... (POST https://localhost:8082/open-metadata/admin-services/users/garygeeke/servers/SUT_Server/server-user-id?id=SUTnpa )\n",
      "   ...... Success. Response:  {'class': 'VoidResponse', 'relatedHTTPCode': 200}\n",
      "\n",
      "   ... Configuring the server's password (optional)...\n",
      "   ...... (POST https://localhost:8082/open-metadata/admin-services/users/garygeeke/servers/SUT_Server/server-user-password?password=SUTpassw0rd )\n",
      "   ...... Success. Response:  {'class': 'VoidResponse', 'relatedHTTPCode': 200}\n",
      "\n",
      "   ... Configuring the metadata repository...\n",
      "   ...... (POST https://localhost:8082/open-metadata/admin-services/users/garygeeke/servers/SUT_Server/local-repository/mode/in-memory-repository )\n",
      "   ...... Success. Response:  {'class': 'VoidResponse', 'relatedHTTPCode': 200}\n",
      "\n",
      "   ... Configuring the short descriptive name of the metadata stored in this server...\n",
      "   ...... (POST https://localhost:8082/open-metadata/admin-services/users/garygeeke/servers/SUT_Server/local-repository/metadata-collection-name/SUT_MDR )\n",
      "   ...... Success. Response:  {'class': 'VoidResponse', 'relatedHTTPCode': 200}\n",
      "\n",
      "   ... Configuring the event bus for this server...\n",
      "   ...... (POST https://localhost:8082/open-metadata/admin-services/users/garygeeke/servers/SUT_Server/event-bus )\n",
      "   ...... Success. Response:  {'class': 'VoidResponse', 'relatedHTTPCode': 200}\n",
      "\n",
      "   ... Configuring the membership of the cohort...\n",
      "   ...... (POST https://localhost:8082/open-metadata/admin-services/users/garygeeke/servers/SUT_Server/cohorts/devCohort )\n",
      "   ...... Success. Response:  {'class': 'VoidResponse', 'relatedHTTPCode': 200}\n",
      "\n",
      "Done.\n"
     ]
    }
   ],
   "source": [
    "sutServerType                  = \"Metadata Repository Server\"\n",
    "sutServerUserId                = \"SUTnpa\"\n",
    "sutServerPassword              = \"SUTpassw0rd\"\n",
    "metadataCollectionName         = \"SUT_MDR\"\n",
    "metadataRepositoryTypeInMemory = \"in-memory-repository\"\n",
    "metadataRepositoryTypeGraph    = \"local-graph-repository\"\n",
    "\n",
    "print(\"Configuring \" + sutServerName + \"...\")\n",
    "\n",
    "if (success):\n",
    "    success = configurePlatformURL(sutServerName, ctsServerPlatform)\n",
    "if (success):\n",
    "    success = configureServerType(sutServerName, sutServerType)\n",
    "if (success):\n",
    "    success = configureUserId(sutServerName, sutServerUserId)\n",
    "if (success):\n",
    "    success = configurePassword(sutServerName, sutServerPassword)\n",
    "if (success):\n",
    "    success = configureMetadataRepository(sutServerName, metadataRepositoryTypeInMemory)\n",
    "if (success):\n",
    "    success = configureDescriptiveName(sutServerName, metadataCollectionName)\n",
    "if (success):\n",
    "    success = configureEventBus(sutServerName, eventBusBody)\n",
    "if (success):\n",
    "    success = configureCohortMembership(sutServerName, devCohort)\n",
    "\n",
    "if (success):\n",
    "    print(\"\\nDone.\")\n",
    "else:\n",
    "    print(\"\\nFAILED: please check the messages above and correct before proceeding\")"
   ]
  },
  {
   "cell_type": "markdown",
   "metadata": {},
   "source": [
    "The commands below deploy the server configuration documents to the server platforms where the\n",
    "servers will run."
   ]
  },
  {
   "cell_type": "code",
   "execution_count": 28,
   "metadata": {},
   "outputs": [
    {
     "name": "stdout",
     "output_type": "stream",
     "text": [
      "\n",
      "Deploying server configuration documents to appropriate platforms...\n",
      "   ... deploying CTS_Server to the https://localhost:8082 platform...\n",
      "   ...... (POST https://localhost:8082/open-metadata/admin-services/users/garygeeke/servers/CTS_Server/configuration/deploy )\n",
      "   ...... Success. Response:  {'class': 'VoidResponse', 'relatedHTTPCode': 200}\n",
      "   ... deploying SUT_Server to the https://localhost:8082 platform...\n",
      "   ...... (POST https://localhost:8082/open-metadata/admin-services/users/garygeeke/servers/SUT_Server/configuration/deploy )\n",
      "   ...... Success. Response:  {'class': 'VoidResponse', 'relatedHTTPCode': 200}\n",
      "\n",
      "Done.\n"
     ]
    }
   ],
   "source": [
    "def deployServerToPlatform(serverName, platformURL):\n",
    "    print(\"   ... deploying\", serverName, \"to the\", platformURL, \"platform...\")\n",
    "    url = adminCommandURLRoot + serverName + '/configuration/deploy'\n",
    "    platformTarget = {\n",
    "        \"class\": \"URLRequestBody\",\n",
    "        \"urlRoot\": platformURL\n",
    "    }\n",
    "    try:\n",
    "        return postAndPrintResult(url, json=platformTarget, headers=jsonContentHeader)\n",
    "    except requests.exceptions.RequestException as e:\n",
    "        print (\"   ...... FAILED - http request threw an exception: \", e)\n",
    "        return False    \n",
    "\n",
    "\n",
    "print(\"\\nDeploying server configuration documents to appropriate platforms...\")\n",
    "    \n",
    "if (success):\n",
    "    success = deployServerToPlatform(ctsServerName, ctsPlatformURL)\n",
    "if (success):\n",
    "    success = deployServerToPlatform(sutServerName, ctsPlatformURL)\n",
    "\n",
    "if (success):\n",
    "    print(\"\\nDone.\")\n",
    "else:\n",
    "    print(\"\\nFAILED: please check the messages above and correct before proceeding\")"
   ]
  },
  {
   "cell_type": "markdown",
   "metadata": {},
   "source": [
    "## Starting the servers\n",
    "\n",
    "We'll need to define the URL for the OMRS operational services API."
   ]
  },
  {
   "cell_type": "code",
   "execution_count": 29,
   "metadata": {},
   "outputs": [],
   "source": [
    "operationalServicesURLcore = \"/open-metadata/admin-services/users/\" + adminUserId"
   ]
  },
  {
   "cell_type": "markdown",
   "metadata": {},
   "source": [
    "Start the CTS Server, followed by the SUT Server.\n",
    "\n",
    "When the CTS Server sees the cohort registration for the SUT Server it will start to run the workbench."
   ]
  },
  {
   "cell_type": "code",
   "execution_count": 45,
   "metadata": {},
   "outputs": [
    {
     "name": "stdout",
     "output_type": "stream",
     "text": [
      "\n",
      "Starting the CTS server ...\n",
      "   ... starting server CTS_Server ...\n",
      "   ...... (POST https://localhost:8082/open-metadata/admin-services/users/garygeeke/servers/CTS_Server/instance )\n",
      "   ...... Success. Response:  {'class': 'SuccessMessageResponse', 'relatedHTTPCode': 200, 'successMessage': 'Wed Oct 21 17:57:21 BST 2020 CTS_Server is running the following services: [Open Metadata Repository Services (OMRS), Connected Asset Services, Conformance Suite Services]'}\n",
      "\n",
      "Starting the SUT server ...\n",
      "   ... starting server SUT_Server ...\n",
      "   ...... (POST https://localhost:8082/open-metadata/admin-services/users/garygeeke/servers/SUT_Server/instance )\n"
     ]
    },
    {
     "ename": "ConnectionError",
     "evalue": "HTTPSConnectionPool(host='localhost', port=8082): Max retries exceeded with url: /open-metadata/admin-services/users/garygeeke/servers/SUT_Server/instance (Caused by NewConnectionError('<urllib3.connection.VerifiedHTTPSConnection object at 0x1245a3690>: Failed to establish a new connection: [Errno 61] Connection refused'))",
     "output_type": "error",
     "traceback": [
      "\u001b[0;31m---------------------------------------------------------------------------\u001b[0m",
      "\u001b[0;31mConnectionRefusedError\u001b[0m                    Traceback (most recent call last)",
      "\u001b[0;32m/usr/local/lib/python3.7/site-packages/urllib3/connection.py\u001b[0m in \u001b[0;36m_new_conn\u001b[0;34m(self)\u001b[0m\n\u001b[1;32m    156\u001b[0m             conn = connection.create_connection(\n\u001b[0;32m--> 157\u001b[0;31m                 \u001b[0;34m(\u001b[0m\u001b[0mself\u001b[0m\u001b[0;34m.\u001b[0m\u001b[0m_dns_host\u001b[0m\u001b[0;34m,\u001b[0m \u001b[0mself\u001b[0m\u001b[0;34m.\u001b[0m\u001b[0mport\u001b[0m\u001b[0;34m)\u001b[0m\u001b[0;34m,\u001b[0m \u001b[0mself\u001b[0m\u001b[0;34m.\u001b[0m\u001b[0mtimeout\u001b[0m\u001b[0;34m,\u001b[0m \u001b[0;34m**\u001b[0m\u001b[0mextra_kw\u001b[0m\u001b[0;34m\u001b[0m\u001b[0;34m\u001b[0m\u001b[0m\n\u001b[0m\u001b[1;32m    158\u001b[0m             )\n",
      "\u001b[0;32m/usr/local/lib/python3.7/site-packages/urllib3/util/connection.py\u001b[0m in \u001b[0;36mcreate_connection\u001b[0;34m(address, timeout, source_address, socket_options)\u001b[0m\n\u001b[1;32m     83\u001b[0m     \u001b[0;32mif\u001b[0m \u001b[0merr\u001b[0m \u001b[0;32mis\u001b[0m \u001b[0;32mnot\u001b[0m \u001b[0;32mNone\u001b[0m\u001b[0;34m:\u001b[0m\u001b[0;34m\u001b[0m\u001b[0;34m\u001b[0m\u001b[0m\n\u001b[0;32m---> 84\u001b[0;31m         \u001b[0;32mraise\u001b[0m \u001b[0merr\u001b[0m\u001b[0;34m\u001b[0m\u001b[0;34m\u001b[0m\u001b[0m\n\u001b[0m\u001b[1;32m     85\u001b[0m \u001b[0;34m\u001b[0m\u001b[0m\n",
      "\u001b[0;32m/usr/local/lib/python3.7/site-packages/urllib3/util/connection.py\u001b[0m in \u001b[0;36mcreate_connection\u001b[0;34m(address, timeout, source_address, socket_options)\u001b[0m\n\u001b[1;32m     73\u001b[0m                 \u001b[0msock\u001b[0m\u001b[0;34m.\u001b[0m\u001b[0mbind\u001b[0m\u001b[0;34m(\u001b[0m\u001b[0msource_address\u001b[0m\u001b[0;34m)\u001b[0m\u001b[0;34m\u001b[0m\u001b[0;34m\u001b[0m\u001b[0m\n\u001b[0;32m---> 74\u001b[0;31m             \u001b[0msock\u001b[0m\u001b[0;34m.\u001b[0m\u001b[0mconnect\u001b[0m\u001b[0;34m(\u001b[0m\u001b[0msa\u001b[0m\u001b[0;34m)\u001b[0m\u001b[0;34m\u001b[0m\u001b[0;34m\u001b[0m\u001b[0m\n\u001b[0m\u001b[1;32m     75\u001b[0m             \u001b[0;32mreturn\u001b[0m \u001b[0msock\u001b[0m\u001b[0;34m\u001b[0m\u001b[0;34m\u001b[0m\u001b[0m\n",
      "\u001b[0;31mConnectionRefusedError\u001b[0m: [Errno 61] Connection refused",
      "\nDuring handling of the above exception, another exception occurred:\n",
      "\u001b[0;31mNewConnectionError\u001b[0m                        Traceback (most recent call last)",
      "\u001b[0;32m/usr/local/lib/python3.7/site-packages/urllib3/connectionpool.py\u001b[0m in \u001b[0;36murlopen\u001b[0;34m(self, method, url, body, headers, retries, redirect, assert_same_host, timeout, pool_timeout, release_conn, chunked, body_pos, **response_kw)\u001b[0m\n\u001b[1;32m    671\u001b[0m                 \u001b[0mheaders\u001b[0m\u001b[0;34m=\u001b[0m\u001b[0mheaders\u001b[0m\u001b[0;34m,\u001b[0m\u001b[0;34m\u001b[0m\u001b[0;34m\u001b[0m\u001b[0m\n\u001b[0;32m--> 672\u001b[0;31m                 \u001b[0mchunked\u001b[0m\u001b[0;34m=\u001b[0m\u001b[0mchunked\u001b[0m\u001b[0;34m,\u001b[0m\u001b[0;34m\u001b[0m\u001b[0;34m\u001b[0m\u001b[0m\n\u001b[0m\u001b[1;32m    673\u001b[0m             )\n",
      "\u001b[0;32m/usr/local/lib/python3.7/site-packages/urllib3/connectionpool.py\u001b[0m in \u001b[0;36m_make_request\u001b[0;34m(self, conn, method, url, timeout, chunked, **httplib_request_kw)\u001b[0m\n\u001b[1;32m    375\u001b[0m         \u001b[0;32mtry\u001b[0m\u001b[0;34m:\u001b[0m\u001b[0;34m\u001b[0m\u001b[0;34m\u001b[0m\u001b[0m\n\u001b[0;32m--> 376\u001b[0;31m             \u001b[0mself\u001b[0m\u001b[0;34m.\u001b[0m\u001b[0m_validate_conn\u001b[0m\u001b[0;34m(\u001b[0m\u001b[0mconn\u001b[0m\u001b[0;34m)\u001b[0m\u001b[0;34m\u001b[0m\u001b[0;34m\u001b[0m\u001b[0m\n\u001b[0m\u001b[1;32m    377\u001b[0m         \u001b[0;32mexcept\u001b[0m \u001b[0;34m(\u001b[0m\u001b[0mSocketTimeout\u001b[0m\u001b[0;34m,\u001b[0m \u001b[0mBaseSSLError\u001b[0m\u001b[0;34m)\u001b[0m \u001b[0;32mas\u001b[0m \u001b[0me\u001b[0m\u001b[0;34m:\u001b[0m\u001b[0;34m\u001b[0m\u001b[0;34m\u001b[0m\u001b[0m\n",
      "\u001b[0;32m/usr/local/lib/python3.7/site-packages/urllib3/connectionpool.py\u001b[0m in \u001b[0;36m_validate_conn\u001b[0;34m(self, conn)\u001b[0m\n\u001b[1;32m    993\u001b[0m         \u001b[0;32mif\u001b[0m \u001b[0;32mnot\u001b[0m \u001b[0mgetattr\u001b[0m\u001b[0;34m(\u001b[0m\u001b[0mconn\u001b[0m\u001b[0;34m,\u001b[0m \u001b[0;34m\"sock\"\u001b[0m\u001b[0;34m,\u001b[0m \u001b[0;32mNone\u001b[0m\u001b[0;34m)\u001b[0m\u001b[0;34m:\u001b[0m  \u001b[0;31m# AppEngine might not have  `.sock`\u001b[0m\u001b[0;34m\u001b[0m\u001b[0;34m\u001b[0m\u001b[0m\n\u001b[0;32m--> 994\u001b[0;31m             \u001b[0mconn\u001b[0m\u001b[0;34m.\u001b[0m\u001b[0mconnect\u001b[0m\u001b[0;34m(\u001b[0m\u001b[0;34m)\u001b[0m\u001b[0;34m\u001b[0m\u001b[0;34m\u001b[0m\u001b[0m\n\u001b[0m\u001b[1;32m    995\u001b[0m \u001b[0;34m\u001b[0m\u001b[0m\n",
      "\u001b[0;32m/usr/local/lib/python3.7/site-packages/urllib3/connection.py\u001b[0m in \u001b[0;36mconnect\u001b[0;34m(self)\u001b[0m\n\u001b[1;32m    333\u001b[0m         \u001b[0;31m# Add certificate verification\u001b[0m\u001b[0;34m\u001b[0m\u001b[0;34m\u001b[0m\u001b[0;34m\u001b[0m\u001b[0m\n\u001b[0;32m--> 334\u001b[0;31m         \u001b[0mconn\u001b[0m \u001b[0;34m=\u001b[0m \u001b[0mself\u001b[0m\u001b[0;34m.\u001b[0m\u001b[0m_new_conn\u001b[0m\u001b[0;34m(\u001b[0m\u001b[0;34m)\u001b[0m\u001b[0;34m\u001b[0m\u001b[0;34m\u001b[0m\u001b[0m\n\u001b[0m\u001b[1;32m    335\u001b[0m         \u001b[0mhostname\u001b[0m \u001b[0;34m=\u001b[0m \u001b[0mself\u001b[0m\u001b[0;34m.\u001b[0m\u001b[0mhost\u001b[0m\u001b[0;34m\u001b[0m\u001b[0;34m\u001b[0m\u001b[0m\n",
      "\u001b[0;32m/usr/local/lib/python3.7/site-packages/urllib3/connection.py\u001b[0m in \u001b[0;36m_new_conn\u001b[0;34m(self)\u001b[0m\n\u001b[1;32m    168\u001b[0m             raise NewConnectionError(\n\u001b[0;32m--> 169\u001b[0;31m                 \u001b[0mself\u001b[0m\u001b[0;34m,\u001b[0m \u001b[0;34m\"Failed to establish a new connection: %s\"\u001b[0m \u001b[0;34m%\u001b[0m \u001b[0me\u001b[0m\u001b[0;34m\u001b[0m\u001b[0;34m\u001b[0m\u001b[0m\n\u001b[0m\u001b[1;32m    170\u001b[0m             )\n",
      "\u001b[0;31mNewConnectionError\u001b[0m: <urllib3.connection.VerifiedHTTPSConnection object at 0x1245a3690>: Failed to establish a new connection: [Errno 61] Connection refused",
      "\nDuring handling of the above exception, another exception occurred:\n",
      "\u001b[0;31mMaxRetryError\u001b[0m                             Traceback (most recent call last)",
      "\u001b[0;32m/usr/local/lib/python3.7/site-packages/requests/adapters.py\u001b[0m in \u001b[0;36msend\u001b[0;34m(self, request, stream, timeout, verify, cert, proxies)\u001b[0m\n\u001b[1;32m    448\u001b[0m                     \u001b[0mretries\u001b[0m\u001b[0;34m=\u001b[0m\u001b[0mself\u001b[0m\u001b[0;34m.\u001b[0m\u001b[0mmax_retries\u001b[0m\u001b[0;34m,\u001b[0m\u001b[0;34m\u001b[0m\u001b[0;34m\u001b[0m\u001b[0m\n\u001b[0;32m--> 449\u001b[0;31m                     \u001b[0mtimeout\u001b[0m\u001b[0;34m=\u001b[0m\u001b[0mtimeout\u001b[0m\u001b[0;34m\u001b[0m\u001b[0;34m\u001b[0m\u001b[0m\n\u001b[0m\u001b[1;32m    450\u001b[0m                 )\n",
      "\u001b[0;32m/usr/local/lib/python3.7/site-packages/urllib3/connectionpool.py\u001b[0m in \u001b[0;36murlopen\u001b[0;34m(self, method, url, body, headers, retries, redirect, assert_same_host, timeout, pool_timeout, release_conn, chunked, body_pos, **response_kw)\u001b[0m\n\u001b[1;32m    719\u001b[0m             retries = retries.increment(\n\u001b[0;32m--> 720\u001b[0;31m                 \u001b[0mmethod\u001b[0m\u001b[0;34m,\u001b[0m \u001b[0murl\u001b[0m\u001b[0;34m,\u001b[0m \u001b[0merror\u001b[0m\u001b[0;34m=\u001b[0m\u001b[0me\u001b[0m\u001b[0;34m,\u001b[0m \u001b[0m_pool\u001b[0m\u001b[0;34m=\u001b[0m\u001b[0mself\u001b[0m\u001b[0;34m,\u001b[0m \u001b[0m_stacktrace\u001b[0m\u001b[0;34m=\u001b[0m\u001b[0msys\u001b[0m\u001b[0;34m.\u001b[0m\u001b[0mexc_info\u001b[0m\u001b[0;34m(\u001b[0m\u001b[0;34m)\u001b[0m\u001b[0;34m[\u001b[0m\u001b[0;36m2\u001b[0m\u001b[0;34m]\u001b[0m\u001b[0;34m\u001b[0m\u001b[0;34m\u001b[0m\u001b[0m\n\u001b[0m\u001b[1;32m    721\u001b[0m             )\n",
      "\u001b[0;32m/usr/local/lib/python3.7/site-packages/urllib3/util/retry.py\u001b[0m in \u001b[0;36mincrement\u001b[0;34m(self, method, url, response, error, _pool, _stacktrace)\u001b[0m\n\u001b[1;32m    435\u001b[0m         \u001b[0;32mif\u001b[0m \u001b[0mnew_retry\u001b[0m\u001b[0;34m.\u001b[0m\u001b[0mis_exhausted\u001b[0m\u001b[0;34m(\u001b[0m\u001b[0;34m)\u001b[0m\u001b[0;34m:\u001b[0m\u001b[0;34m\u001b[0m\u001b[0;34m\u001b[0m\u001b[0m\n\u001b[0;32m--> 436\u001b[0;31m             \u001b[0;32mraise\u001b[0m \u001b[0mMaxRetryError\u001b[0m\u001b[0;34m(\u001b[0m\u001b[0m_pool\u001b[0m\u001b[0;34m,\u001b[0m \u001b[0murl\u001b[0m\u001b[0;34m,\u001b[0m \u001b[0merror\u001b[0m \u001b[0;32mor\u001b[0m \u001b[0mResponseError\u001b[0m\u001b[0;34m(\u001b[0m\u001b[0mcause\u001b[0m\u001b[0;34m)\u001b[0m\u001b[0;34m)\u001b[0m\u001b[0;34m\u001b[0m\u001b[0;34m\u001b[0m\u001b[0m\n\u001b[0m\u001b[1;32m    437\u001b[0m \u001b[0;34m\u001b[0m\u001b[0m\n",
      "\u001b[0;31mMaxRetryError\u001b[0m: HTTPSConnectionPool(host='localhost', port=8082): Max retries exceeded with url: /open-metadata/admin-services/users/garygeeke/servers/SUT_Server/instance (Caused by NewConnectionError('<urllib3.connection.VerifiedHTTPSConnection object at 0x1245a3690>: Failed to establish a new connection: [Errno 61] Connection refused'))",
      "\nDuring handling of the above exception, another exception occurred:\n",
      "\u001b[0;31mConnectionError\u001b[0m                           Traceback (most recent call last)",
      "\u001b[0;32m<ipython-input-45-8c38c2bea35e>\u001b[0m in \u001b[0;36m<module>\u001b[0;34m\u001b[0m\n\u001b[1;32m     15\u001b[0m \u001b[0;34m\u001b[0m\u001b[0m\n\u001b[1;32m     16\u001b[0m \u001b[0;32mif\u001b[0m \u001b[0;34m(\u001b[0m\u001b[0msuccess\u001b[0m\u001b[0;34m)\u001b[0m\u001b[0;34m:\u001b[0m\u001b[0;34m\u001b[0m\u001b[0;34m\u001b[0m\u001b[0m\n\u001b[0;32m---> 17\u001b[0;31m     \u001b[0msuccess\u001b[0m \u001b[0;34m=\u001b[0m \u001b[0mstartServer\u001b[0m\u001b[0;34m(\u001b[0m\u001b[0msutServerName\u001b[0m\u001b[0;34m,\u001b[0m \u001b[0mctsPlatformURL\u001b[0m\u001b[0;34m)\u001b[0m\u001b[0;34m\u001b[0m\u001b[0;34m\u001b[0m\u001b[0m\n\u001b[0m\u001b[1;32m     18\u001b[0m \u001b[0;34m\u001b[0m\u001b[0m\n\u001b[1;32m     19\u001b[0m \u001b[0;32mif\u001b[0m \u001b[0;34m(\u001b[0m\u001b[0msuccess\u001b[0m\u001b[0;34m)\u001b[0m\u001b[0;34m:\u001b[0m\u001b[0;34m\u001b[0m\u001b[0;34m\u001b[0m\u001b[0m\n",
      "\u001b[0;32m<ipython-input-45-8c38c2bea35e>\u001b[0m in \u001b[0;36mstartServer\u001b[0;34m(serverName, platformURL)\u001b[0m\n\u001b[1;32m      2\u001b[0m     \u001b[0mprint\u001b[0m\u001b[0;34m(\u001b[0m\u001b[0;34m\"   ... starting server\"\u001b[0m\u001b[0;34m,\u001b[0m \u001b[0mserverName\u001b[0m\u001b[0;34m,\u001b[0m \u001b[0;34m\"...\"\u001b[0m\u001b[0;34m)\u001b[0m\u001b[0;34m\u001b[0m\u001b[0;34m\u001b[0m\u001b[0m\n\u001b[1;32m      3\u001b[0m     \u001b[0murl\u001b[0m \u001b[0;34m=\u001b[0m \u001b[0mplatformURL\u001b[0m \u001b[0;34m+\u001b[0m \u001b[0moperationalServicesURLcore\u001b[0m \u001b[0;34m+\u001b[0m \u001b[0;34m'/servers/'\u001b[0m \u001b[0;34m+\u001b[0m \u001b[0mserverName\u001b[0m \u001b[0;34m+\u001b[0m \u001b[0;34m'/instance'\u001b[0m\u001b[0;34m\u001b[0m\u001b[0;34m\u001b[0m\u001b[0m\n\u001b[0;32m----> 4\u001b[0;31m     \u001b[0;32mreturn\u001b[0m \u001b[0mpostAndPrintResult\u001b[0m\u001b[0;34m(\u001b[0m\u001b[0murl\u001b[0m\u001b[0;34m)\u001b[0m\u001b[0;34m\u001b[0m\u001b[0;34m\u001b[0m\u001b[0m\n\u001b[0m\u001b[1;32m      5\u001b[0m \u001b[0;34m\u001b[0m\u001b[0m\n\u001b[1;32m      6\u001b[0m \u001b[0mprint\u001b[0m \u001b[0;34m(\u001b[0m\u001b[0;34m\"\\nStarting the CTS server ...\"\u001b[0m\u001b[0;34m)\u001b[0m\u001b[0;34m\u001b[0m\u001b[0;34m\u001b[0m\u001b[0m\n",
      "\u001b[0;32m<ipython-input-24-eef25ad01db4>\u001b[0m in \u001b[0;36mpostAndPrintResult\u001b[0;34m(url, json, headers)\u001b[0m\n\u001b[1;32m      1\u001b[0m \u001b[0;32mdef\u001b[0m \u001b[0mpostAndPrintResult\u001b[0m\u001b[0;34m(\u001b[0m\u001b[0murl\u001b[0m\u001b[0;34m,\u001b[0m \u001b[0mjson\u001b[0m\u001b[0;34m=\u001b[0m\u001b[0;32mNone\u001b[0m\u001b[0;34m,\u001b[0m \u001b[0mheaders\u001b[0m\u001b[0;34m=\u001b[0m\u001b[0;32mNone\u001b[0m\u001b[0;34m)\u001b[0m\u001b[0;34m:\u001b[0m\u001b[0;34m\u001b[0m\u001b[0;34m\u001b[0m\u001b[0m\n\u001b[1;32m      2\u001b[0m     \u001b[0mprint\u001b[0m\u001b[0;34m(\u001b[0m\u001b[0;34m\"   ...... (POST\"\u001b[0m\u001b[0;34m,\u001b[0m \u001b[0murl\u001b[0m\u001b[0;34m,\u001b[0m \u001b[0;34m\")\"\u001b[0m\u001b[0;34m)\u001b[0m\u001b[0;34m\u001b[0m\u001b[0;34m\u001b[0m\u001b[0m\n\u001b[0;32m----> 3\u001b[0;31m     \u001b[0mresponse\u001b[0m \u001b[0;34m=\u001b[0m \u001b[0mrequests\u001b[0m\u001b[0;34m.\u001b[0m\u001b[0mpost\u001b[0m\u001b[0;34m(\u001b[0m\u001b[0murl\u001b[0m\u001b[0;34m,\u001b[0m \u001b[0mjson\u001b[0m\u001b[0;34m=\u001b[0m\u001b[0mjson\u001b[0m\u001b[0;34m,\u001b[0m \u001b[0mheaders\u001b[0m\u001b[0;34m=\u001b[0m\u001b[0mheaders\u001b[0m\u001b[0;34m)\u001b[0m\u001b[0;34m\u001b[0m\u001b[0;34m\u001b[0m\u001b[0m\n\u001b[0m\u001b[1;32m      4\u001b[0m     \u001b[0;32mif\u001b[0m \u001b[0mresponse\u001b[0m\u001b[0;34m.\u001b[0m\u001b[0mstatus_code\u001b[0m \u001b[0;34m==\u001b[0m \u001b[0;36m200\u001b[0m\u001b[0;34m:\u001b[0m\u001b[0;34m\u001b[0m\u001b[0;34m\u001b[0m\u001b[0m\n\u001b[1;32m      5\u001b[0m         \u001b[0mprint\u001b[0m\u001b[0;34m(\u001b[0m\u001b[0;34m\"   ...... Success. Response: \"\u001b[0m\u001b[0;34m,\u001b[0m \u001b[0mresponse\u001b[0m\u001b[0;34m.\u001b[0m\u001b[0mjson\u001b[0m\u001b[0;34m(\u001b[0m\u001b[0;34m)\u001b[0m\u001b[0;34m)\u001b[0m\u001b[0;34m\u001b[0m\u001b[0;34m\u001b[0m\u001b[0m\n",
      "\u001b[0;32m/usr/local/lib/python3.7/site-packages/requests/api.py\u001b[0m in \u001b[0;36mpost\u001b[0;34m(url, data, json, **kwargs)\u001b[0m\n\u001b[1;32m    114\u001b[0m     \"\"\"\n\u001b[1;32m    115\u001b[0m \u001b[0;34m\u001b[0m\u001b[0m\n\u001b[0;32m--> 116\u001b[0;31m     \u001b[0;32mreturn\u001b[0m \u001b[0mrequest\u001b[0m\u001b[0;34m(\u001b[0m\u001b[0;34m'post'\u001b[0m\u001b[0;34m,\u001b[0m \u001b[0murl\u001b[0m\u001b[0;34m,\u001b[0m \u001b[0mdata\u001b[0m\u001b[0;34m=\u001b[0m\u001b[0mdata\u001b[0m\u001b[0;34m,\u001b[0m \u001b[0mjson\u001b[0m\u001b[0;34m=\u001b[0m\u001b[0mjson\u001b[0m\u001b[0;34m,\u001b[0m \u001b[0;34m**\u001b[0m\u001b[0mkwargs\u001b[0m\u001b[0;34m)\u001b[0m\u001b[0;34m\u001b[0m\u001b[0;34m\u001b[0m\u001b[0m\n\u001b[0m\u001b[1;32m    117\u001b[0m \u001b[0;34m\u001b[0m\u001b[0m\n\u001b[1;32m    118\u001b[0m \u001b[0;34m\u001b[0m\u001b[0m\n",
      "\u001b[0;32m/usr/local/lib/python3.7/site-packages/requests/api.py\u001b[0m in \u001b[0;36mrequest\u001b[0;34m(method, url, **kwargs)\u001b[0m\n\u001b[1;32m     58\u001b[0m     \u001b[0;31m# cases, and look like a memory leak in others.\u001b[0m\u001b[0;34m\u001b[0m\u001b[0;34m\u001b[0m\u001b[0;34m\u001b[0m\u001b[0m\n\u001b[1;32m     59\u001b[0m     \u001b[0;32mwith\u001b[0m \u001b[0msessions\u001b[0m\u001b[0;34m.\u001b[0m\u001b[0mSession\u001b[0m\u001b[0;34m(\u001b[0m\u001b[0;34m)\u001b[0m \u001b[0;32mas\u001b[0m \u001b[0msession\u001b[0m\u001b[0;34m:\u001b[0m\u001b[0;34m\u001b[0m\u001b[0;34m\u001b[0m\u001b[0m\n\u001b[0;32m---> 60\u001b[0;31m         \u001b[0;32mreturn\u001b[0m \u001b[0msession\u001b[0m\u001b[0;34m.\u001b[0m\u001b[0mrequest\u001b[0m\u001b[0;34m(\u001b[0m\u001b[0mmethod\u001b[0m\u001b[0;34m=\u001b[0m\u001b[0mmethod\u001b[0m\u001b[0;34m,\u001b[0m \u001b[0murl\u001b[0m\u001b[0;34m=\u001b[0m\u001b[0murl\u001b[0m\u001b[0;34m,\u001b[0m \u001b[0;34m**\u001b[0m\u001b[0mkwargs\u001b[0m\u001b[0;34m)\u001b[0m\u001b[0;34m\u001b[0m\u001b[0;34m\u001b[0m\u001b[0m\n\u001b[0m\u001b[1;32m     61\u001b[0m \u001b[0;34m\u001b[0m\u001b[0m\n\u001b[1;32m     62\u001b[0m \u001b[0;34m\u001b[0m\u001b[0m\n",
      "\u001b[0;32m/usr/local/lib/python3.7/site-packages/requests/sessions.py\u001b[0m in \u001b[0;36mrequest\u001b[0;34m(self, method, url, params, data, headers, cookies, files, auth, timeout, allow_redirects, proxies, hooks, stream, verify, cert, json)\u001b[0m\n\u001b[1;32m    531\u001b[0m         }\n\u001b[1;32m    532\u001b[0m         \u001b[0msend_kwargs\u001b[0m\u001b[0;34m.\u001b[0m\u001b[0mupdate\u001b[0m\u001b[0;34m(\u001b[0m\u001b[0msettings\u001b[0m\u001b[0;34m)\u001b[0m\u001b[0;34m\u001b[0m\u001b[0;34m\u001b[0m\u001b[0m\n\u001b[0;32m--> 533\u001b[0;31m         \u001b[0mresp\u001b[0m \u001b[0;34m=\u001b[0m \u001b[0mself\u001b[0m\u001b[0;34m.\u001b[0m\u001b[0msend\u001b[0m\u001b[0;34m(\u001b[0m\u001b[0mprep\u001b[0m\u001b[0;34m,\u001b[0m \u001b[0;34m**\u001b[0m\u001b[0msend_kwargs\u001b[0m\u001b[0;34m)\u001b[0m\u001b[0;34m\u001b[0m\u001b[0;34m\u001b[0m\u001b[0m\n\u001b[0m\u001b[1;32m    534\u001b[0m \u001b[0;34m\u001b[0m\u001b[0m\n\u001b[1;32m    535\u001b[0m         \u001b[0;32mreturn\u001b[0m \u001b[0mresp\u001b[0m\u001b[0;34m\u001b[0m\u001b[0;34m\u001b[0m\u001b[0m\n",
      "\u001b[0;32m/usr/local/lib/python3.7/site-packages/requests/sessions.py\u001b[0m in \u001b[0;36msend\u001b[0;34m(self, request, **kwargs)\u001b[0m\n\u001b[1;32m    644\u001b[0m \u001b[0;34m\u001b[0m\u001b[0m\n\u001b[1;32m    645\u001b[0m         \u001b[0;31m# Send the request\u001b[0m\u001b[0;34m\u001b[0m\u001b[0;34m\u001b[0m\u001b[0;34m\u001b[0m\u001b[0m\n\u001b[0;32m--> 646\u001b[0;31m         \u001b[0mr\u001b[0m \u001b[0;34m=\u001b[0m \u001b[0madapter\u001b[0m\u001b[0;34m.\u001b[0m\u001b[0msend\u001b[0m\u001b[0;34m(\u001b[0m\u001b[0mrequest\u001b[0m\u001b[0;34m,\u001b[0m \u001b[0;34m**\u001b[0m\u001b[0mkwargs\u001b[0m\u001b[0;34m)\u001b[0m\u001b[0;34m\u001b[0m\u001b[0;34m\u001b[0m\u001b[0m\n\u001b[0m\u001b[1;32m    647\u001b[0m \u001b[0;34m\u001b[0m\u001b[0m\n\u001b[1;32m    648\u001b[0m         \u001b[0;31m# Total elapsed time of the request (approximately)\u001b[0m\u001b[0;34m\u001b[0m\u001b[0;34m\u001b[0m\u001b[0;34m\u001b[0m\u001b[0m\n",
      "\u001b[0;32m/usr/local/lib/python3.7/site-packages/requests/adapters.py\u001b[0m in \u001b[0;36msend\u001b[0;34m(self, request, stream, timeout, verify, cert, proxies)\u001b[0m\n\u001b[1;32m    514\u001b[0m                 \u001b[0;32mraise\u001b[0m \u001b[0mSSLError\u001b[0m\u001b[0;34m(\u001b[0m\u001b[0me\u001b[0m\u001b[0;34m,\u001b[0m \u001b[0mrequest\u001b[0m\u001b[0;34m=\u001b[0m\u001b[0mrequest\u001b[0m\u001b[0;34m)\u001b[0m\u001b[0;34m\u001b[0m\u001b[0;34m\u001b[0m\u001b[0m\n\u001b[1;32m    515\u001b[0m \u001b[0;34m\u001b[0m\u001b[0m\n\u001b[0;32m--> 516\u001b[0;31m             \u001b[0;32mraise\u001b[0m \u001b[0mConnectionError\u001b[0m\u001b[0;34m(\u001b[0m\u001b[0me\u001b[0m\u001b[0;34m,\u001b[0m \u001b[0mrequest\u001b[0m\u001b[0;34m=\u001b[0m\u001b[0mrequest\u001b[0m\u001b[0;34m)\u001b[0m\u001b[0;34m\u001b[0m\u001b[0;34m\u001b[0m\u001b[0m\n\u001b[0m\u001b[1;32m    517\u001b[0m \u001b[0;34m\u001b[0m\u001b[0m\n\u001b[1;32m    518\u001b[0m         \u001b[0;32mexcept\u001b[0m \u001b[0mClosedPoolError\u001b[0m \u001b[0;32mas\u001b[0m \u001b[0me\u001b[0m\u001b[0;34m:\u001b[0m\u001b[0;34m\u001b[0m\u001b[0;34m\u001b[0m\u001b[0m\n",
      "\u001b[0;31mConnectionError\u001b[0m: HTTPSConnectionPool(host='localhost', port=8082): Max retries exceeded with url: /open-metadata/admin-services/users/garygeeke/servers/SUT_Server/instance (Caused by NewConnectionError('<urllib3.connection.VerifiedHTTPSConnection object at 0x1245a3690>: Failed to establish a new connection: [Errno 61] Connection refused'))"
     ]
    }
   ],
   "source": [
    "def startServer(serverName, platformURL):\n",
    "    print(\"   ... starting server\", serverName, \"...\")\n",
    "    url = platformURL + operationalServicesURLcore + '/servers/' + serverName + '/instance'\n",
    "    return postAndPrintResult(url)\n",
    "\n",
    "print (\"\\nStarting the CTS server ...\")\n",
    "\n",
    "if (success):\n",
    "    success = startServer(ctsServerName, ctsPlatformURL)\n",
    "    \n",
    "# Pause to allow server to initialize fully    \n",
    "time.sleep(4)\n",
    "\n",
    "print (\"\\nStarting the SUT server ...\")\n",
    "\n",
    "if (success):\n",
    "    success = startServer(sutServerName, ctsPlatformURL)\n",
    "\n",
    "if (success):\n",
    "    print(\"\\nDone.\")\n",
    "else:\n",
    "    print(\"\\nFAILED: please check the messages above and correct before proceeding\")"
   ]
  },
  {
   "cell_type": "markdown",
   "metadata": {},
   "source": [
    "## Workbench Progress\n",
    "\n",
    "The repository workbench runs a lot of tests (several thousand) and it can take a while to complete. \n",
    "There is no 'completion event' because when the confirmance suite has completed the synchronous workbench tests it \n",
    "continues to run and will perform asynchronous tests in responses to events that may be received within the cohort.\n",
    "The consequence of this is that it is not easy to know when the CTS has 'finished'. However, if you scan the output\n",
    "console logging from the conformance suite it is possible to detect the log output:\n",
    "\n",
    "Thu Nov 21 09:11:01 GMT 2019 CTS_Server Information CONFORMANCE-SUITE-0011 The Open Metadata Conformance Workbench repository-workbench has completed its synchronous tests, further test cases may be triggered from incoming events.\n",
    "\n",
    "When this has been seen you will probably see a number of further events being processed by the CTS Server. There can be up to several hundred events - that look like the following:\n",
    "\n",
    "Thu Nov 21 09:11:03 GMT 2019 CTS_Server Event OMRS-AUDIT-8006 Processing incoming event of type DeletedEntityEvent for instance 2fd6cd97-35dd-41d9-ad2f-4d25af30033e from: OMRSEventOriginator{metadataCollectionId='f076a951-fcd0-483b-a06e-d0c7abb61b84', serverName='SUT_Server', serverType='Metadata Repository Server', organizationName='null'}\n",
    "\n",
    "Thu Nov 21 09:11:03 GMT 2019 CTS_Server Event OMRS-AUDIT-8006 Processing incoming event of type PurgedEntityEvent for instance 2fd6cd97-35dd-41d9-ad2f-4d25af30033e from: OMRSEventOriginator{metadataCollectionId='f076a951-fcd0-483b-a06e-d0c7abb61b84', serverName='SUT_Server', serverType='Metadata Repository Server', organizationName='null'}\n",
    "\n",
    "These events are usually DELETE and PURGE events relating to instances that have been cleaned up on the SUT Server. \n",
    "\n",
    "Once these events have been logged the console should go quiet. When you see this, it is possible to retrieve the workbench results from the CTS Server."
   ]
  },
  {
   "cell_type": "markdown",
   "metadata": {},
   "source": [
    "## Polling for Status\n",
    "The following cell can be used to find out whether the workbench has completed its synchronous tests...."
   ]
  },
  {
   "cell_type": "code",
   "execution_count": 33,
   "metadata": {
    "scrolled": true
   },
   "outputs": [
    {
     "name": "stdout",
     "output_type": "stream",
     "text": [
      "\n",
      "Retrieve repository-workbench status ...\n",
      "   ... retrieving completion status from server CTS_Server ...\n",
      "\n",
      "   ...... (GET https://localhost:8082/servers/CTS_Server/open-metadata/conformance-suite/users/garygeeke/status/workbenches/repository-workbench )\n",
      "\n",
      "Workbench repository-workbench is complete.\n"
     ]
    }
   ],
   "source": [
    "import pandas\n",
    "from pandas.io.json import json_normalize\n",
    "\n",
    "conformanceSuiteServicesURLcore = \"/open-metadata/conformance-suite/users/\" + adminUserId\n",
    "\n",
    "def retrieveStatus(serverName, platformURL):\n",
    "    print(\"   ... retrieving completion status from server\", serverName, \"...\")\n",
    "    url = platformURL + '/servers/' + serverName + conformanceSuiteServicesURLcore + '/status/workbenches/repository-workbench'\n",
    "    return getResult(url)\n",
    "\n",
    "print (\"\\nRetrieve repository-workbench status ...\")\n",
    "\n",
    "status_json = retrieveStatus(ctsServerName, ctsPlatformURL)\n",
    "\n",
    "if (status_json != None):\n",
    "    workbenchStatus = json_normalize(data = status_json['workbenchStatus'])\n",
    "    workbenchId = workbenchStatus.loc[0 , \"workbenchId\"]\n",
    "    workbenchComplete = workbenchStatus.loc[0 , \"workbenchComplete\"]\n",
    "    if (workbenchComplete == True):\n",
    "        print(\"\\nWorkbench\",workbenchId,\"is complete.\")\n",
    "    else:\n",
    "        print(\"\\nWorkbench\",workbenchId,\"has not yet completed.\")\n",
    "else:\n",
    "    print(\"\\nFAILED: please check the messages above and correct before proceeding\")"
   ]
  },
  {
   "cell_type": "markdown",
   "metadata": {},
   "source": [
    "## Retrieving the Workbench Results\n",
    "\n",
    "The repository workbench keeps the results of the testcases in memory. When the workbench is complete (see above) you \n",
    "can request a report of the results from the REST API on the CTS Server.\n",
    "\n",
    "The REST API has several options that supports different styles of report, but here we will request\n",
    "the whole report. Note that the report is LARGE, so if you are running the Jupyter notebook server with its default configuration, the report will exceed the default max data rate for the notebook server. If you are not running the Egeria team's containers (docker/k8s), and you have not done so already, please restart the notebook server with the following configuration option:\n",
    "\n",
    "\n",
    "jupyter notebook --NotebookApp.iopub_data_rate_limit=1.0e10 \n",
    "\n",
    "The returned report is also large. If the following call results in a Java Heap error you may need to increase the memory configured for your container environment, or available locally. Min 4GB, ideally 6GB additional ram is recommended for CTS.\n"
   ]
  },
  {
   "cell_type": "code",
   "execution_count": 36,
   "metadata": {
    "scrolled": true
   },
   "outputs": [
    {
     "name": "stdout",
     "output_type": "stream",
     "text": [
      "\n",
      "Retrieve Conformance Suite results ...\n",
      "   ... retrieving test report from server CTS_Server ...\n",
      "\n",
      "   ...... (GET https://localhost:8082/servers/CTS_Server/open-metadata/conformance-suite/users/garygeeke/report )\n",
      "\n",
      "Done.\n"
     ]
    }
   ],
   "source": [
    "report_json = None\n",
    "\n",
    "\n",
    "conformanceSuiteServicesURLcore = \"/open-metadata/conformance-suite/users/\" + adminUserId\n",
    "\n",
    "def retrieveReport(serverName, platformURL):\n",
    "    print(\"   ... retrieving test report from server\", serverName, \"...\")\n",
    "    url = platformURL + '/servers/' + serverName + conformanceSuiteServicesURLcore + '/report'\n",
    "    return getResult(url)\n",
    "\n",
    "print (\"\\nRetrieve Conformance Suite results ...\")\n",
    "\n",
    "report_json = retrieveReport(ctsServerName, ctsPlatformURL)\n",
    "\n",
    "if (report_json != None):\n",
    "    print(\"\\nDone.\")\n",
    "else:\n",
    "    print(\"\\nFAILED: please check the messages above and correct before proceeding\")"
   ]
  },
  {
   "cell_type": "markdown",
   "metadata": {},
   "source": [
    "## Making sense of the Workbench Results\n",
    "\n",
    "The repository workbench is a large JSON object that contains different sections of interest.\n",
    "\n",
    "The following approach uses pandas. If you have not already done so, use pip (or pip3) to install pandas.\n"
   ]
  },
  {
   "cell_type": "code",
   "execution_count": 37,
   "metadata": {},
   "outputs": [],
   "source": [
    "import pandas\n",
    "from pandas.io.json import json_normalize\n",
    "\n",
    "if (report_json != None):\n",
    "    testLabResults = json_normalize(data = report_json['testLabResults'])    \n",
    "else:\n",
    "    print(\"\\nPlease check the messages above and correct before proceeding\")                 "
   ]
  },
  {
   "cell_type": "markdown",
   "metadata": {},
   "source": [
    "## Monitoring Progress\n",
    "It's possible to ask for the results while the tests are still running - and this can be used to give an idea of progress"
   ]
  },
  {
   "cell_type": "code",
   "execution_count": 38,
   "metadata": {
    "scrolled": true
   },
   "outputs": [
    {
     "name": "stdout",
     "output_type": "stream",
     "text": [
      "   ... retrieving test report from server CTS_Server ...\n",
      "\n",
      "   ...... (GET https://localhost:8082/servers/CTS_Server/open-metadata/conformance-suite/users/garygeeke/report )\n",
      "Progress... completed  1703  out of a possible  1703  tests.\n"
     ]
    }
   ],
   "source": [
    "partial_result = retrieveReport(ctsServerName, ctsPlatformURL)\n",
    "if (partial_result != None):\n",
    "    testLabResults = json_normalize(data = report_json['testLabResults'])    \n",
    "    testSkippedCount = testLabResults.loc[0 , \"testSkippedCount\"]\n",
    "    testCaseCount = testLabResults.loc[0 , \"testCaseCount\"]\n",
    "    testCompleteCount = testCaseCount - testSkippedCount\n",
    "    print(\"Progress... completed \",testCompleteCount,\" out of a possible \",testCaseCount, \" tests.\" )"
   ]
  },
  {
   "cell_type": "markdown",
   "metadata": {},
   "source": [
    "## Test Statistics Summary\n",
    "\n",
    "The following is a very brief summary of the test statistics:"
   ]
  },
  {
   "cell_type": "code",
   "execution_count": 39,
   "metadata": {
    "scrolled": true
   },
   "outputs": [
    {
     "name": "stdout",
     "output_type": "stream",
     "text": [
      "Date of conformance test:          2020-10-21T15:35:32.657+00:00\n",
      "Number of tests that were run:     1703\n",
      "Number of tests that failed:       4\n",
      "Number of tests that were skipped: 0\n"
     ]
    }
   ],
   "source": [
    "if (report_json != None):\n",
    "    testRunDate = testLabResults.loc[0 , \"testRunDate\"]\n",
    "    testCaseCount = testLabResults.loc[0 , \"testCaseCount\"]\n",
    "    testFailedCount = testLabResults.loc[0 , \"testFailedCount\"]\n",
    "    testSkippedCount = testLabResults.loc[0 , \"testSkippedCount\"]\n",
    "    print(\"Date of conformance test:          {}\".format(testRunDate))\n",
    "    print(\"Number of tests that were run:     {}\".format(testCaseCount))\n",
    "    print(\"Number of tests that failed:       {}\".format(testFailedCount))\n",
    "    print(\"Number of tests that were skipped: {}\".format(testSkippedCount))\n",
    "else:\n",
    "    print(\"\\nPlease check the earlier cells and correct before proceeding\")   "
   ]
  },
  {
   "cell_type": "markdown",
   "metadata": {},
   "source": [
    "## Conformance Profile Results\n",
    "\n",
    "The following is a summary of the status of each conformance profile. To ensure that you get a complete summary, make sure you retrieve the results (as above) once the workbench has completed."
   ]
  },
  {
   "cell_type": "code",
   "execution_count": 40,
   "metadata": {
    "scrolled": true
   },
   "outputs": [
    {
     "data": {
      "text/html": [
       "<div>\n",
       "<style scoped>\n",
       "    .dataframe tbody tr th:only-of-type {\n",
       "        vertical-align: middle;\n",
       "    }\n",
       "\n",
       "    .dataframe tbody tr th {\n",
       "        vertical-align: top;\n",
       "    }\n",
       "\n",
       "    .dataframe thead th {\n",
       "        text-align: right;\n",
       "    }\n",
       "</style>\n",
       "<table border=\"1\" class=\"dataframe\">\n",
       "  <thead>\n",
       "    <tr style=\"text-align: right;\">\n",
       "      <th></th>\n",
       "      <th>id</th>\n",
       "      <th>name</th>\n",
       "      <th>description</th>\n",
       "      <th>profilePriority</th>\n",
       "      <th>conformanceStatus</th>\n",
       "    </tr>\n",
       "  </thead>\n",
       "  <tbody>\n",
       "    <tr>\n",
       "      <th>0</th>\n",
       "      <td>0</td>\n",
       "      <td>Metadata sharing</td>\n",
       "      <td>The technology under test is able to share met...</td>\n",
       "      <td>MANDATORY_PROFILE</td>\n",
       "      <td>NOT_CONFORMANT</td>\n",
       "    </tr>\n",
       "    <tr>\n",
       "      <th>1</th>\n",
       "      <td>1</td>\n",
       "      <td>Reference copies</td>\n",
       "      <td>The technology under test is able to save, loc...</td>\n",
       "      <td>OPTIONAL_PROFILE</td>\n",
       "      <td>UNKNOWN_STATUS</td>\n",
       "    </tr>\n",
       "    <tr>\n",
       "      <th>2</th>\n",
       "      <td>2</td>\n",
       "      <td>Metadata maintenance</td>\n",
       "      <td>The technology under test supports requests to...</td>\n",
       "      <td>OPTIONAL_PROFILE</td>\n",
       "      <td>UNKNOWN_STATUS</td>\n",
       "    </tr>\n",
       "    <tr>\n",
       "      <th>3</th>\n",
       "      <td>3</td>\n",
       "      <td>Dynamic types</td>\n",
       "      <td>The technology under test supports changes to ...</td>\n",
       "      <td>OPTIONAL_PROFILE</td>\n",
       "      <td>UNKNOWN_STATUS</td>\n",
       "    </tr>\n",
       "    <tr>\n",
       "      <th>4</th>\n",
       "      <td>4</td>\n",
       "      <td>Graph queries</td>\n",
       "      <td>The technology under test supports graph-like ...</td>\n",
       "      <td>OPTIONAL_PROFILE</td>\n",
       "      <td>UNKNOWN_STATUS</td>\n",
       "    </tr>\n",
       "    <tr>\n",
       "      <th>5</th>\n",
       "      <td>5</td>\n",
       "      <td>Historical search</td>\n",
       "      <td>The technology under test supports search for ...</td>\n",
       "      <td>OPTIONAL_PROFILE</td>\n",
       "      <td>UNKNOWN_STATUS</td>\n",
       "    </tr>\n",
       "    <tr>\n",
       "      <th>6</th>\n",
       "      <td>6</td>\n",
       "      <td>Entity proxies</td>\n",
       "      <td>The technology under test is able to store stu...</td>\n",
       "      <td>OPTIONAL_PROFILE</td>\n",
       "      <td>UNKNOWN_STATUS</td>\n",
       "    </tr>\n",
       "    <tr>\n",
       "      <th>7</th>\n",
       "      <td>7</td>\n",
       "      <td>Soft-delete and restore</td>\n",
       "      <td>The technology under test allows an instance t...</td>\n",
       "      <td>OPTIONAL_PROFILE</td>\n",
       "      <td>UNKNOWN_STATUS</td>\n",
       "    </tr>\n",
       "    <tr>\n",
       "      <th>8</th>\n",
       "      <td>8</td>\n",
       "      <td>Undo an update</td>\n",
       "      <td>The technology under test is able to restore a...</td>\n",
       "      <td>OPTIONAL_PROFILE</td>\n",
       "      <td>UNKNOWN_STATUS</td>\n",
       "    </tr>\n",
       "    <tr>\n",
       "      <th>9</th>\n",
       "      <td>9</td>\n",
       "      <td>Reidentify instance</td>\n",
       "      <td>The technology under test supports the command...</td>\n",
       "      <td>OPTIONAL_PROFILE</td>\n",
       "      <td>UNKNOWN_STATUS</td>\n",
       "    </tr>\n",
       "    <tr>\n",
       "      <th>10</th>\n",
       "      <td>10</td>\n",
       "      <td>Retype instance</td>\n",
       "      <td>The technology under test supports the command...</td>\n",
       "      <td>OPTIONAL_PROFILE</td>\n",
       "      <td>UNKNOWN_STATUS</td>\n",
       "    </tr>\n",
       "    <tr>\n",
       "      <th>11</th>\n",
       "      <td>11</td>\n",
       "      <td>Rehome instance</td>\n",
       "      <td>The technology under test supports the command...</td>\n",
       "      <td>OPTIONAL_PROFILE</td>\n",
       "      <td>UNKNOWN_STATUS</td>\n",
       "    </tr>\n",
       "    <tr>\n",
       "      <th>12</th>\n",
       "      <td>12</td>\n",
       "      <td>Relationship search</td>\n",
       "      <td>The technology under test supports the ability...</td>\n",
       "      <td>OPTIONAL_PROFILE</td>\n",
       "      <td>UNKNOWN_STATUS</td>\n",
       "    </tr>\n",
       "    <tr>\n",
       "      <th>13</th>\n",
       "      <td>13</td>\n",
       "      <td>Entity advanced search</td>\n",
       "      <td>The technology under test supports the use of ...</td>\n",
       "      <td>OPTIONAL_PROFILE</td>\n",
       "      <td>UNKNOWN_STATUS</td>\n",
       "    </tr>\n",
       "    <tr>\n",
       "      <th>14</th>\n",
       "      <td>14</td>\n",
       "      <td>Relationship advanced search</td>\n",
       "      <td>The technology under test supports the use of ...</td>\n",
       "      <td>OPTIONAL_PROFILE</td>\n",
       "      <td>UNKNOWN_STATUS</td>\n",
       "    </tr>\n",
       "  </tbody>\n",
       "</table>\n",
       "</div>"
      ],
      "text/plain": [
       "    id                          name  \\\n",
       "0    0              Metadata sharing   \n",
       "1    1              Reference copies   \n",
       "2    2          Metadata maintenance   \n",
       "3    3                 Dynamic types   \n",
       "4    4                 Graph queries   \n",
       "5    5             Historical search   \n",
       "6    6                Entity proxies   \n",
       "7    7       Soft-delete and restore   \n",
       "8    8                Undo an update   \n",
       "9    9           Reidentify instance   \n",
       "10  10               Retype instance   \n",
       "11  11               Rehome instance   \n",
       "12  12           Relationship search   \n",
       "13  13        Entity advanced search   \n",
       "14  14  Relationship advanced search   \n",
       "\n",
       "                                          description    profilePriority  \\\n",
       "0   The technology under test is able to share met...  MANDATORY_PROFILE   \n",
       "1   The technology under test is able to save, loc...   OPTIONAL_PROFILE   \n",
       "2   The technology under test supports requests to...   OPTIONAL_PROFILE   \n",
       "3   The technology under test supports changes to ...   OPTIONAL_PROFILE   \n",
       "4   The technology under test supports graph-like ...   OPTIONAL_PROFILE   \n",
       "5   The technology under test supports search for ...   OPTIONAL_PROFILE   \n",
       "6   The technology under test is able to store stu...   OPTIONAL_PROFILE   \n",
       "7   The technology under test allows an instance t...   OPTIONAL_PROFILE   \n",
       "8   The technology under test is able to restore a...   OPTIONAL_PROFILE   \n",
       "9   The technology under test supports the command...   OPTIONAL_PROFILE   \n",
       "10  The technology under test supports the command...   OPTIONAL_PROFILE   \n",
       "11  The technology under test supports the command...   OPTIONAL_PROFILE   \n",
       "12  The technology under test supports the ability...   OPTIONAL_PROFILE   \n",
       "13  The technology under test supports the use of ...   OPTIONAL_PROFILE   \n",
       "14  The technology under test supports the use of ...   OPTIONAL_PROFILE   \n",
       "\n",
       "   conformanceStatus  \n",
       "0     NOT_CONFORMANT  \n",
       "1     UNKNOWN_STATUS  \n",
       "2     UNKNOWN_STATUS  \n",
       "3     UNKNOWN_STATUS  \n",
       "4     UNKNOWN_STATUS  \n",
       "5     UNKNOWN_STATUS  \n",
       "6     UNKNOWN_STATUS  \n",
       "7     UNKNOWN_STATUS  \n",
       "8     UNKNOWN_STATUS  \n",
       "9     UNKNOWN_STATUS  \n",
       "10    UNKNOWN_STATUS  \n",
       "11    UNKNOWN_STATUS  \n",
       "12    UNKNOWN_STATUS  \n",
       "13    UNKNOWN_STATUS  \n",
       "14    UNKNOWN_STATUS  "
      ]
     },
     "metadata": {},
     "output_type": "display_data"
    }
   ],
   "source": [
    "if (report_json != None):\n",
    "    repositoryWorkbenchResults = json_normalize(data = report_json['testLabResults'],\n",
    "                                                record_path =['testResultsFromWorkbenches','profileResults'])\n",
    "    repositoryWorkbenchResultsSummary = repositoryWorkbenchResults[['id','name','description','profilePriority','conformanceStatus']]              \n",
    "\n",
    "    display(repositoryWorkbenchResultsSummary.head(15))"
   ]
  },
  {
   "cell_type": "code",
   "execution_count": null,
   "metadata": {},
   "outputs": [],
   "source": []
  }
 ],
 "metadata": {
  "kernelspec": {
   "display_name": "Python 3",
   "language": "python",
   "name": "python3"
  },
  "language_info": {
   "codemirror_mode": {
    "name": "ipython",
    "version": 3
   },
   "file_extension": ".py",
   "mimetype": "text/x-python",
   "name": "python",
   "nbconvert_exporter": "python",
   "pygments_lexer": "ipython3",
   "version": "3.7.5"
  }
 },
 "nbformat": 4,
 "nbformat_minor": 4
}
