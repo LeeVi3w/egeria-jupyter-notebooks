{
 "cells": [
  {
   "cell_type": "markdown",
   "id": "faa5cf5a-0f2f-44c9-b0a6-1031d22e4618",
   "metadata": {},
   "source": [
    "![Egeria Logo](https://raw.githubusercontent.com/odpi/egeria/master/assets/img/ODPi_Egeria_Logo_color.png)\n",
    "\n",
    "### Egeria Hands-On Lab\n",
    "# Welcome to the Open Lineage Lab"
   ]
  },
  {
   "cell_type": "markdown",
   "id": "e2f1d65c-3de8-4aa0-85fd-38a77217f9a4",
   "metadata": {},
   "source": [
    "## Introduction\n",
    "\n",
    "Egeria is an open source project that provides open standards and implementation libraries to connect tools, catalogs and platforms together so they can share information (called metadata) about data and the technology that supports it.\n",
    "\n",
    "In this hands-on lab you will get a chance to work with Egeria metadata and governance servers and learn how to manually create  metadata to describe lineage for data movement processes. For this purpose we use **Open Lineage Services** governance server solution designed to capture and manage a historical warehouse of lineage information.\n",
    "We will aslo show how using General **Egeria UI** you can search data assets and visualize lineage previously created.\n",
    "\n",
    "To read more about lineage concepts in Egeria, see https://egeria.odpi.org/open-metadata-publication/website/lineage/."
   ]
  },
  {
   "cell_type": "markdown",
   "id": "15d89b8d-da4b-46ee-9c1e-c58e3849be1f",
   "metadata": {
    "tags": []
   },
   "source": [
    "## The Scenario\n",
    "\n",
    "The Egeria team use the personas and scenarios from the fictitious company called Coco Pharmaceuticals. (See https://opengovernance.odpi.org/coco-pharmaceuticals/ for more information).\n",
    "\n",
    "On their business transformation journey, after they successfuly created data catalog for the data lake, new challange emerged. Due to regulatory requirements, business came up with request to improve data traceability. Introducing data lineage for critical data flows is the next level of maturity in their governance program.\n",
    "\n",
    "In this lab we discover how to manually catalogue data assets in the data lake and describe data movement for simple data transformation process executed by their in-house built ETL tool. Finally, the users can find data assets and visualize end to end lineage in the web UI.\n",
    "\n",
    "Peter Profile and Erin Overview got assigned to work on a solution to capture and report data lineage using Egeria. \n"
   ]
  },
  {
   "cell_type": "markdown",
   "id": "2345862c-5c24-482c-81d1-89a9fb954064",
   "metadata": {},
   "source": [
    "## Setting up\n",
    "\n",
    "Coco Pharmaceuticals make widespread use of Egeria for tracking and managing their data and related assets.\n",
    "Figure 1 below shows their metadata servers and the Open Metadata and Governance (OMAG) Server Platforms that are hosting them.  Each metadata server supports a department in the organization.  The servers are distributed across the platform to even out the workload.  Servers can be moved to a different platform if needed.\n",
    "\n",
    "![Figure 1](./images/coco-pharmaceuticals-systems-omag-server-platforms-metadata-server.png)\n",
    "> **Figure 1:** Coco Pharmaceuticals' OMAG Server Platforms\n",
    "\n",
    "The code below checks that the platforms are running.  It checks that the servers are configured and then if they are running on the platform.  If a server is configured, but not running, it will start it.\n",
    "\n",
    "Look for the \"Done.\" message.  This appears when `environment-check` has finished.\n"
   ]
  },
  {
   "cell_type": "code",
   "execution_count": null,
   "id": "d09f4b66-ce75-40ed-b1fc-9669e692ac35",
   "metadata": {},
   "outputs": [],
   "source": [
    "%run common/environment-check.ipynb"
   ]
  },
  {
   "cell_type": "markdown",
   "id": "f9dea7e5-5974-4052-bc30-f1676e781fc1",
   "metadata": {},
   "source": [
    "## Excercise 1 \n",
    "\n",
    "### Capturing lineage manually\n",
    "\n",
    "In this first excercise, Peter and Erin will have to understand in-house built data platform tools used to design ETL processes ingesting data into the data lake. To start, they have chosen to manually catalogue data file assets from previous clinical trials. They will aslo need to create asset for the process definition describing the data movement between different data stores.\n",
    "\n",
    "For use-cases like this one, Date Engine Access Service (OMAS) API seems perfect match. It enables external data platfroms, tools or engines to interact with Egeria and share metadata needed to construct lineage graph. \n",
    "\n",
    "----\n",
    "\n",
    "The diagram below describes external interaction, metadata catalog server **cocoMDS1** internal processing and lineage information storage in Open Lineage Services governance server **cocoOLS1**.\n",
    "\n",
    "\n",
    "![Figure 2](./images/data-engine-omas-open-lineage.png)\n",
    "> **Figure 2:** Lineage processing flow\n",
    "\n",
    "Once lineage gets stored, UI platforms and different UI soloutions can query asset and lineage information and display nice vizualizations like end to end data lineage. General **Egeria UI** currently supports this feature. (*See UI Lab reference here but first it needs update! ....*)\n",
    "\n",
    "----"
   ]
  },
  {
   "cell_type": "markdown",
   "id": "8591f338-2faa-4afa-ac0d-9883dfe26bb7",
   "metadata": {},
   "source": [
    "#### Check if assets are present in the catalog\n",
    "\n",
    "Erin wants to be sure upfront that the assets are not present in the catalog. She uses Egeria UI Asset Catalog search option but fist she need to log in. Access Egeria UI on https://localhost:8080/\n",
    "    \n",
    "    username: erinoverview\n",
    "    password: secret\n",
    "\n",
    "![Erin Logon](./images/egeria-ui-erin-logon.png)\n",
    "> **Figure 3** Log on as user Erin Overview"
   ]
  },
  {
   "cell_type": "markdown",
   "id": "13cc5371-db65-4f7a-a9f0-006a0b1f9735",
   "metadata": {},
   "source": [
    "Once logged on, from the top navigation bar she navigates to \"Search\" leading to Asset Catalog search page.\n",
    "\n",
    "![Navigation bar](./images/egeria-ui-nav-bar.png)\n",
    "> **Figure 4** Navigate to Asset Catalog search page"
   ]
  },
  {
   "cell_type": "markdown",
   "id": "3ef6eca3-38da-4a63-8989-c773ed50bd33",
   "metadata": {},
   "source": [
    "Erin already knows the name of the data file asset in interest so she inputs the tex \"OldMeasurementsArchive\" in the search box and selects type \"Asset\" from the list.\n",
    "\n",
    "![Asset Catalog no results](./images/egeria-ui-asset-catalog-asset-not-found.png)\n",
    "\n",
    "The UI responds with message that no assets are found with the input provided. This is expected since at this moment the assets are not yet created."
   ]
  },
  {
   "cell_type": "markdown",
   "id": "ac56e020-340f-4316-aa34-4ec77ca86ecf",
   "metadata": {},
   "source": [
    "#### Adding assets in the catalog\n",
    "\n",
    "Peter is now ready to create the assets representing old clinical data form previous period not covered by the regular ingestion process.\n",
    "\n",
    " - SoftwareServer capabililyty by registering the CocoETL they are using;\n",
    " - Asset of type DataFile describing generic file store. This represents original raw clinical data archive used as input for TransformData process;\n",
    " - Asset of type Process, decribing definition of simple ETL process producing new CSV file as output result; \n",
    " - Asset of type CSVFile, more specific file data store created as output result of the transformation process designed in CocoETL tool.\n",
    " \n",
    "The level asset details shared with Egeria can vary, depending on the needs. Egeria supports from high level process to low column level lineage capturing both data stores and processes. In this first exercise we are focusing on the high level approach.\n",
    "\n",
    "For the API calls, Peter is going to use the Data Lake Platform hosting `cocoMDS1` repository server and Data Engine Access Service (OMAS)."
   ]
  },
  {
   "cell_type": "code",
   "execution_count": null,
   "id": "4eb85468-a48d-4676-a703-d2cbbcd7656a",
   "metadata": {},
   "outputs": [],
   "source": [
    "adminCommandURLRoot = dataLakePlatformURL\n",
    "mdrServerName       = \"cocoMDS1\"\n",
    "cocoETLEngineUser   = \"cocoDEnpa1\"\n",
    "cocoETLName         = \"CocoPharma/DataEngine/CocoETL\"\n",
    "filesRoot           = \"file://secured/research/previous-clinical-trials/\""
   ]
  },
  {
   "cell_type": "markdown",
   "id": "811e30fe-f0e1-4516-ae0f-e79132778483",
   "metadata": {},
   "source": [
    "1. Create `SoftwareServerCapability` by registering CocoETL, in-house tool they are using."
   ]
  },
  {
   "cell_type": "code",
   "execution_count": null,
   "id": "0d702fe8-2b71-45cb-a7a0-296796c43ada",
   "metadata": {},
   "outputs": [],
   "source": [
    "\n",
    "url = adminCommandURLRoot + '/servers/' + mdrServerName + '/open-metadata/access-services/data-engine/users/' + cocoETLEngineUser + '/registration'\n",
    "\n",
    "requestBody = {\n",
    "    \"dataEngine\":\n",
    "        {\n",
    "            \"qualifiedName\": cocoETLName,\n",
    "            \"displayName\": \"CocoETL\",\n",
    "            \"description\": \"Requesting to register external data engine capability for Coco Pharmaceuticals in-house Data Platform ETL tool CocoETL.\",\n",
    "            \"engineType\": \"DataEngine\",\n",
    "            \"engineVersion\": \"1\",\n",
    "            \"enginePatchLevel\": \"0\",\n",
    "            \"vendor\": \"Coco Pharmaceuticals\",\n",
    "            \"version\": \"1\",\n",
    "            \"source\": \"CocoPharma\"\n",
    "        }\n",
    "}\n",
    "\n",
    "\n",
    "print(requestBody)\n",
    "\n",
    "postAndPrintResult(url, json=requestBody, headers=jsonContentHeader)"
   ]
  },
  {
   "cell_type": "markdown",
   "id": "41c11b49-5704-49dc-88d0-7c71e89bbaad",
   "metadata": {},
   "source": [
    "2. Create Asset of type DataFile describing generic file store. This represents original raw clinical data archive used as input for the transormation process."
   ]
  },
  {
   "cell_type": "code",
   "execution_count": null,
   "id": "216e908b-f987-4d54-9185-2060879b7621",
   "metadata": {},
   "outputs": [],
   "source": [
    "\n",
    "url = adminCommandURLRoot + '/servers/' + mdrServerName + '/open-metadata/access-services/data-engine/users/' + cocoETLEngineUser + '/data-files'\n",
    "fileName1 = \"OldMeasurementsArchive\"\n",
    "qualifiedFileName1 = filesRoot + fileName1 + \"@\" + cocoETLName\n",
    "\n",
    "requestBodyFile1 = {\n",
    "    \"externalSourceName\": cocoETLName,\n",
    "    \"file\": {\n",
    "        \"fileType\": \"DataFile\",\n",
    "        \"qualifiedName\": qualifiedFileName1,\n",
    "        \"displayName\": fileName1,\n",
    "        \"pathName\": filesRoot + fileName1,\n",
    "         \"columns\": [\n",
    "            {\n",
    "                \"qualifiedName\": \"Id@\" + fileName1,\n",
    "                \"displayName\": \"Id\"\n",
    "            },\n",
    "            {\n",
    "                \"qualifiedName\": \"First@\" + fileName1,\n",
    "                \"displayName\": \"First\"\n",
    "            },\n",
    "            {\n",
    "                \"qualifiedName\": \"Last@\" + fileName1,\n",
    "                \"displayName\": \"Last\"\n",
    "            },\n",
    "            {\n",
    "                \"qualifiedName\": \"Location@\" + fileName1,\n",
    "                \"displayName\": \"Location\"\n",
    "            }\n",
    "        ]\n",
    "    }\n",
    "}\n",
    "\n",
    "print(requestBodyFile1)\n",
    "\n",
    "postAndPrintResult(url, json=requestBodyFile1, headers=jsonContentHeader)"
   ]
  },
  {
   "cell_type": "code",
   "execution_count": null,
   "id": "23506292-3e45-40b1-b9fd-d23d20ec9d78",
   "metadata": {},
   "outputs": [],
   "source": [
    "\n",
    "url = adminCommandURLRoot + '/servers/' + mdrServerName + '/open-metadata/access-services/data-engine/users/' + cocoETLEngineUser + '/data-files'\n",
    "fileName2 = cocoETL + \"/home/files/emplname.csv\"\n",
    "\n",
    "requestBodyFile2 = {\n",
    "    \"externalSourceName\": cocoETLName,\n",
    "    \"file\": {\n",
    "        \"fileType\": \"CSVFile\",\n",
    "        \"qualifiedName\": fileName2,\n",
    "        \"displayName\": \"emplname.csv\",\n",
    "        \"pathName\": \"/home/files/emplname.csv\",\n",
    "         \"columns\": [\n",
    "            {\n",
    "                \"qualifiedName\": \"EMPID@\" + fileName2,\n",
    "                \"displayName\": \"EMPID\"\n",
    "            },\n",
    "            {\n",
    "                \"qualifiedName\": \"FNAME@\" + fileName2,\n",
    "                \"displayName\": \"FNAME\"\n",
    "            },\n",
    "            {\n",
    "                \"qualifiedName\": \"Last@\" + fileName2,\n",
    "                \"displayName\": \"LNAME\"\n",
    "            },\n",
    "            {\n",
    "                \"qualifiedName\": \"LOC@\" + fileName2,\n",
    "                \"displayName\": \"LOC\"\n",
    "            }\n",
    "        ]\n",
    "    }\n",
    "}\n",
    "\n",
    "print(requestBodyFile2)\n",
    "\n",
    "postAndPrintResult(url, json=requestBodyFile2, headers=jsonContentHeader)"
   ]
  },
  {
   "cell_type": "code",
   "execution_count": null,
   "id": "585563cc-eefa-487d-88fe-5b91c32b9232",
   "metadata": {},
   "outputs": [],
   "source": [
    "url = adminCommandURLRoot + '/servers/' + mdrServerName + '/open-metadata/access-services/data-engine/users/' + cocoETLEngineUser + '/processes'\n",
    "copyColumnsProcess = cocoETLName + \"/CopyColumnsProcess\"\n",
    "\n",
    "requestBodyCopyColumnsProcess = {\n",
    "    \"process\":\n",
    "        {\n",
    "            \"qualifiedName\": copyColumnsProcess,\n",
    "            \"displayName\": \"CopyColumns\",\n",
    "            \"name\": \"CopyColumnsETL.py\",\n",
    "            \"description\": \"Process named 'CopyColumns' representing simple high level processing activity performed by CocoETL tool.\",\n",
    "            \"owner\": cocoETLEngineUser,\n",
    "            \"updateSemantic\": \"REPLACE\"\n",
    "        },\n",
    "    \"externalSourceName\": cocoETL\n",
    "}\n",
    "\n",
    "print(requestBodyCopyColumnsProcess)\n",
    "postAndPrintResult(url, json=requestBodyCopyColumnsProcess, headers=jsonContentHeader)"
   ]
  },
  {
   "cell_type": "code",
   "execution_count": null,
   "id": "9f6807b8-849e-45bc-86ec-6e224f4ff0f6",
   "metadata": {},
   "outputs": [],
   "source": [
    "url = adminCommandURLRoot + '/servers/' + mdrServerName + '/open-metadata/access-services/data-engine/users/' + cocoETLEngineUser + '/lineage-mappings'\n",
    "\n",
    "requestBodyLineageMappings = {\n",
    "    \"lineageMappings\": [\n",
    "        {\n",
    "            \"sourceAttribute\": fileName1,\n",
    "            \"targetAttribute\": copyColumnsProcess\n",
    "        },\n",
    "        {\n",
    "            \"sourceAttribute\": copyColumnsProcess,\n",
    "            \"targetAttribute\": fileName2\n",
    "        }\n",
    "    ],\n",
    "    \"externalSourceName\": cocoETLName\n",
    "}\n",
    "\n",
    "print(requestBodyCopyColumnsProcess)\n",
    "postAndPrintResult(url, json=requestBodyLineageMappings, headers=jsonContentHeader)"
   ]
  },
  {
   "cell_type": "markdown",
   "id": "f446d1e5-99c9-484e-8bdc-a79ddd83c248",
   "metadata": {},
   "source": [
    "#### Adding lineage mappings in the catalog\n",
    "#### Finding assets in the UI and showing lineage"
   ]
  }
 ],
 "metadata": {
  "kernelspec": {
   "display_name": "Python 3",
   "language": "python",
   "name": "python3"
  },
  "language_info": {
   "codemirror_mode": {
    "name": "ipython",
    "version": 3
   },
   "file_extension": ".py",
   "mimetype": "text/x-python",
   "name": "python",
   "nbconvert_exporter": "python",
   "pygments_lexer": "ipython3",
   "version": "3.8.8"
  }
 },
 "nbformat": 4,
 "nbformat_minor": 5
}