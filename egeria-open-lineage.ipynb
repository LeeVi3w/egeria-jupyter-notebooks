{
 "cells": [
  {
   "cell_type": "markdown",
   "id": "faa5cf5a-0f2f-44c9-b0a6-1031d22e4618",
   "metadata": {},
   "source": [
    "![Egeria Logo](https://raw.githubusercontent.com/odpi/egeria/master/assets/img/ODPi_Egeria_Logo_color.png)\n",
    "\n",
    "### Egeria Hands-On Lab\n",
    "# Welcome to the Open Lineage Lab"
   ]
  },
  {
   "cell_type": "markdown",
   "id": "e2f1d65c-3de8-4aa0-85fd-38a77217f9a4",
   "metadata": {},
   "source": [
    "## Introduction\n",
    "\n",
    "Egeria is an open source project that provides open standards and implementation libraries to connect tools, catalogs and platforms together so they can share information (called metadata) about data and the technology that supports it.\n",
    "\n",
    "In this hands-on lab you will get a chance to work with Egeria metadata and governance servers and learn how to manually create  metadata to describe lineage for simple data movement processes. We will aslo show how using Egeria UI you can search data assets and visualize lineage previously created.\n",
    "\n",
    "To read more about lineage concepts in Egeria, see https://egeria.odpi.org/open-metadata-publication/website/lineage."
   ]
  },
  {
   "cell_type": "markdown",
   "id": "15d89b8d-da4b-46ee-9c1e-c58e3849be1f",
   "metadata": {
    "tags": []
   },
   "source": [
    "## The Scenario\n",
    "\n",
    "The Egeria team use the personas and scenarios from the fictitious company called Coco Pharmaceuticals. (See https://opengovernance.odpi.org/coco-pharmaceuticals/ for more information).\n",
    "\n",
    "On their business transformation journey, after they successfuly created data catalog for the data lake, new challange emerged. Due to regulatory requirements, business came up with request to improve data traceability. Introducing data lineage for critical data flows is the next level of maturity in their governance program.\n",
    "\n",
    "In this lab we discover how to manually catalogue data assets in the data lake and describe data movement for simple data transformation process executed by their in-house built ETL tool. Finally, the users can find data assets and visualize end to end lineage in the web UI.\n",
    "\n",
    "Peter Profile and Erin Overview got assigned to work on a solution to vizualize and report data lineage using Egeria. In their effort they are going to focus on the ETL tooling and manually do calls to the data catalog to register relevant metadata about assets and connection in-between describing data movement.\n"
   ]
  },
  {
   "cell_type": "markdown",
   "id": "2345862c-5c24-482c-81d1-89a9fb954064",
   "metadata": {},
   "source": [
    "## Setting up\n",
    "\n",
    "Coco Pharmaceuticals make widespread use of Egeria for tracking and managing their data and related assets.\n",
    "Figure 1 below shows their metadata servers and the Open Metadata and Governance (OMAG) Server Platforms that are hosting them.  Each metadata server supports a department in the organization.  The servers are distributed across the platform to even out the workload.  Servers can be moved to a different platform if needed.\n",
    "\n",
    "![Figure 1](./images/coco-pharmaceuticals-systems-omag-server-platforms-metadata-server.png)\n",
    "> **Figure 1:** Coco Pharmaceuticals' OMAG Server Platforms\n",
    "\n",
    "The code below checks that the platforms are running.  It checks that the servers are configured and then if they are running on the platform.  If a server is configured, but not running, it will start it.\n",
    "\n",
    "Look for the \"Done.\" message.  This appears when `environment-check` has finished.\n"
   ]
  },
  {
   "cell_type": "code",
   "execution_count": null,
   "id": "d09f4b66-ce75-40ed-b1fc-9669e692ac35",
   "metadata": {},
   "outputs": [],
   "source": [
    "%run common/environment-check.ipynb"
   ]
  },
  {
   "cell_type": "markdown",
   "id": "f9dea7e5-5974-4052-bc30-f1676e781fc1",
   "metadata": {},
   "source": [
    "## Excercise 1 \n",
    "### Manually creating lineage\n",
    "\n",
    "For this exercise, Peter and Erin came up with list of items needed:\n",
    "\n",
    "- Identify the data assets and manually catalogue them;\n",
    "- Identify the tool that is used for data transfomration and register it in the data lake;\n",
    "- Undestand how to use metadata provided by the tooling and create asset for the data transformation process itself;\n",
    "- Undestand how to use metadata provided by the tooling and create the mappings between the assets;\n",
    "\n",
    "\n",
    "\n",
    "//TODO describe Egeria components involved\n",
    "\n",
    "![Figure 1](./images/data-engine-omas-open-lineage.png)\n",
    "\n"
   ]
  },
  {
   "cell_type": "markdown",
   "id": "53968e9d-64a6-4697-aebf-8fa8200723b2",
   "metadata": {},
   "source": [
    "### Create Metadata"
   ]
  },
  {
   "cell_type": "code",
   "execution_count": null,
   "id": "4eb85468-a48d-4676-a703-d2cbbcd7656a",
   "metadata": {},
   "outputs": [],
   "source": [
    "adminCommandURLRoot = dataLakePlatformURL\n",
    "#dataEngineUser = \"bobnitter\"\n",
    "cocoETLEngineUser = \"cocoDEnpa1\""
   ]
  },
  {
   "cell_type": "code",
   "execution_count": null,
   "id": "0d702fe8-2b71-45cb-a7a0-296796c43ada",
   "metadata": {},
   "outputs": [],
   "source": [
    "\n",
    "url = adminCommandURLRoot + '/servers/' + mdrServerName + '/open-metadata/access-services/data-engine/users/' + cocoETLEngineUser + '/registration'\n",
    "cocoETL = \"CocoPharma/DataEngine/CocoETL\"\n",
    "\n",
    "requestBody = {\n",
    "    \"dataEngine\":\n",
    "        {\n",
    "            \"qualifiedName\": cocoETL,\n",
    "            \"displayName\": \"CocoETL\",\n",
    "            \"description\": \"Requesting to register external data engine capability for Coco Pharmaceuticals in-house Data Platform ETL tool.\",\n",
    "            \"engineType\": \"DataEngine\",\n",
    "            \"engineVersion\": \"1\",\n",
    "            \"enginePatchLevel\": \"0\",\n",
    "            \"vendor\": \"Coco Pharmaceuticals\",\n",
    "            \"version\": \"1\",\n",
    "            \"source\": \"CocoPharma\"\n",
    "        }\n",
    "}\n",
    "\n",
    "\n",
    "print(requestBody)\n",
    "\n",
    "postAndPrintResult(url, json=requestBody, headers=jsonContentHeader)"
   ]
  },
  {
   "cell_type": "code",
   "execution_count": null,
   "id": "216e908b-f987-4d54-9185-2060879b7621",
   "metadata": {},
   "outputs": [],
   "source": [
    "\n",
    "url = adminCommandURLRoot + '/servers/' + mdrServerName + '/open-metadata/access-services/data-engine/users/' + cocoETLEngineUser + '/data-files'\n",
    "fileName1 = cocoETL + \"/home/files/names.csv\"\n",
    "\n",
    "requestBodyFile1 = {\n",
    "    \"externalSourceName\": cocoETL,\n",
    "    \"file\": {\n",
    "        \"fileType\": \"CSVFile\",\n",
    "        \"qualifiedName\": fileName1,\n",
    "        \"displayName\": \"names.csv\",\n",
    "        \"pathName\": \"/home/files/names.csv\",\n",
    "         \"columns\": [\n",
    "            {\n",
    "                \"qualifiedName\": \"Id@\" + fileName1,\n",
    "                \"displayName\": \"Id\"\n",
    "            },\n",
    "            {\n",
    "                \"qualifiedName\": \"First@\" + fileName1,\n",
    "                \"displayName\": \"First\"\n",
    "            },\n",
    "            {\n",
    "                \"qualifiedName\": \"Last@\" + fileName1,\n",
    "                \"displayName\": \"Last\"\n",
    "            },\n",
    "            {\n",
    "                \"qualifiedName\": \"Location@\" + fileName1,\n",
    "                \"displayName\": \"Location\"\n",
    "            }\n",
    "        ]\n",
    "    }\n",
    "}\n",
    "\n",
    "print(requestBodyFile1)\n",
    "\n",
    "postAndPrintResult(url, json=requestBodyFile1, headers=jsonContentHeader)"
   ]
  },
  {
   "cell_type": "code",
   "execution_count": null,
   "id": "23506292-3e45-40b1-b9fd-d23d20ec9d78",
   "metadata": {},
   "outputs": [],
   "source": [
    "\n",
    "url = adminCommandURLRoot + '/servers/' + mdrServerName + '/open-metadata/access-services/data-engine/users/' + cocoETLEngineUser + '/data-files'\n",
    "fileName2 = cocoETL + \"/home/files/emplname.csv\"\n",
    "\n",
    "requestBodyFile2 = {\n",
    "    \"externalSourceName\": cocoETL,\n",
    "    \"file\": {\n",
    "        \"fileType\": \"CSVFile\",\n",
    "        \"qualifiedName\": fileName2,\n",
    "        \"displayName\": \"emplname.csv\",\n",
    "        \"pathName\": \"/home/files/emplname.csv\",\n",
    "         \"columns\": [\n",
    "            {\n",
    "                \"qualifiedName\": \"EMPID@\" + fileName2,\n",
    "                \"displayName\": \"EMPID\"\n",
    "            },\n",
    "            {\n",
    "                \"qualifiedName\": \"FNAME@\" + fileName2,\n",
    "                \"displayName\": \"FNAME\"\n",
    "            },\n",
    "            {\n",
    "                \"qualifiedName\": \"Last@\" + fileName2,\n",
    "                \"displayName\": \"LNAME\"\n",
    "            },\n",
    "            {\n",
    "                \"qualifiedName\": \"LOC@\" + fileName2,\n",
    "                \"displayName\": \"LOC\"\n",
    "            }\n",
    "        ]\n",
    "    }\n",
    "}\n",
    "\n",
    "print(requestBodyFile2)\n",
    "\n",
    "postAndPrintResult(url, json=requestBodyFile2, headers=jsonContentHeader)"
   ]
  },
  {
   "cell_type": "code",
   "execution_count": null,
   "id": "585563cc-eefa-487d-88fe-5b91c32b9232",
   "metadata": {},
   "outputs": [],
   "source": [
    "url = adminCommandURLRoot + '/servers/' + mdrServerName + '/open-metadata/access-services/data-engine/users/' + cocoETLEngineUser + '/processes'\n",
    "copyColumnsProcess = cocoETL + \"/CopyColumnsProcess\"\n",
    "\n",
    "requestBodyCopyColumnsProcess = {\n",
    "    \"process\":\n",
    "        {\n",
    "            \"qualifiedName\": copyColumnsProcess,\n",
    "            \"displayName\": \"CopyColumns\",\n",
    "            \"name\": \"CopyColumnsETL.py\",\n",
    "            \"description\": \"Process named 'CopyColumns' representing simple high level processing activity performed by CocoETL tool.\",\n",
    "            \"owner\": cocoETLEngineUser,\n",
    "            \"updateSemantic\": \"REPLACE\"\n",
    "        },\n",
    "    \"externalSourceName\": cocoETL\n",
    "}\n",
    "\n",
    "print(requestBodyCopyColumnsProcess)\n",
    "postAndPrintResult(url, json=requestBodyCopyColumnsProcess, headers=jsonContentHeader)"
   ]
  },
  {
   "cell_type": "code",
   "execution_count": null,
   "id": "9f6807b8-849e-45bc-86ec-6e224f4ff0f6",
   "metadata": {},
   "outputs": [],
   "source": [
    "url = adminCommandURLRoot + '/servers/' + mdrServerName + '/open-metadata/access-services/data-engine/users/' + cocoETLEngineUser + '/lineage-mappings'\n",
    "\n",
    "requestBodyLineageMappings = {\n",
    "    \"lineageMappings\": [\n",
    "        {\n",
    "            \"sourceAttribute\": fileName1,\n",
    "            \"targetAttribute\": copyColumnsProcess\n",
    "        },\n",
    "        {\n",
    "            \"sourceAttribute\": copyColumnsProcess,\n",
    "            \"targetAttribute\": fileName2\n",
    "        }\n",
    "    ],\n",
    "    \"externalSourceName\": cocoETL\n",
    "}\n",
    "\n",
    "print(requestBodyCopyColumnsProcess)\n",
    "postAndPrintResult(url, json=requestBodyLineageMappings, headers=jsonContentHeader)"
   ]
  },
  {
   "cell_type": "code",
   "execution_count": null,
   "id": "ac7948fe-1d97-43c9-a1db-6ae3a7f04a76",
   "metadata": {},
   "outputs": [],
   "source": []
  }
 ],
 "metadata": {
  "kernelspec": {
   "display_name": "Python 3",
   "language": "python",
   "name": "python3"
  },
  "language_info": {
   "codemirror_mode": {
    "name": "ipython",
    "version": 3
   },
   "file_extension": ".py",
   "mimetype": "text/x-python",
   "name": "python",
   "nbconvert_exporter": "python",
   "pygments_lexer": "ipython3",
   "version": "3.8.8"
  }
 },
 "nbformat": 4,
 "nbformat_minor": 5
}
